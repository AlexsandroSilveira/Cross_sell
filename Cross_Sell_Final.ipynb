{
 "cells": [
  {
   "cell_type": "markdown",
   "id": "55e275a1",
   "metadata": {},
   "source": [
    "O modelo usado para o projeto é o Learning to Rank (Subcategoria da classificação), modelo que ordena uma lista de recomendação."
   ]
  },
  {
   "cell_type": "markdown",
   "id": "d3f072cd",
   "metadata": {
    "heading_collapsed": true
   },
   "source": [
    "# 0.0 Imports"
   ]
  },
  {
   "cell_type": "code",
   "execution_count": 1,
   "id": "3e0162f5",
   "metadata": {
    "ExecuteTime": {
     "end_time": "2022-07-12T12:30:32.788644Z",
     "start_time": "2022-07-12T12:30:30.478561Z"
    },
    "hidden": true
   },
   "outputs": [],
   "source": [
    "import pickle\n",
    "import pandas as pd\n",
    "import numpy  as np\n",
    "import matplotlib.pyplot as plt\n",
    "import seaborn as sns\n",
    "import scikitplot as skplt\n",
    "\n",
    "from flask   import Flask, request, Response\n",
    "from sklearn import preprocessing as pp\n",
    "from sklearn import model_selection as ms\n",
    "from sklearn import ensemble as en\n",
    "from sklearn import neighbors as nh\n",
    "from sklearn import linear_model as lm"
   ]
  },
  {
   "cell_type": "markdown",
   "id": "83f95a54",
   "metadata": {
    "heading_collapsed": true,
    "hidden": true
   },
   "source": [
    "## 0.1 Loading Data"
   ]
  },
  {
   "cell_type": "code",
   "execution_count": 11,
   "id": "47a33001",
   "metadata": {
    "ExecuteTime": {
     "end_time": "2022-07-11T18:24:00.912528Z",
     "start_time": "2022-07-11T18:23:59.816119Z"
    },
    "hidden": true
   },
   "outputs": [
    {
     "data": {
      "text/html": [
       "<div>\n",
       "<style scoped>\n",
       "    .dataframe tbody tr th:only-of-type {\n",
       "        vertical-align: middle;\n",
       "    }\n",
       "\n",
       "    .dataframe tbody tr th {\n",
       "        vertical-align: top;\n",
       "    }\n",
       "\n",
       "    .dataframe thead th {\n",
       "        text-align: right;\n",
       "    }\n",
       "</style>\n",
       "<table border=\"1\" class=\"dataframe\">\n",
       "  <thead>\n",
       "    <tr style=\"text-align: right;\">\n",
       "      <th></th>\n",
       "      <th>id</th>\n",
       "      <th>Gender</th>\n",
       "      <th>Age</th>\n",
       "      <th>Driving_License</th>\n",
       "      <th>Region_Code</th>\n",
       "      <th>Previously_Insured</th>\n",
       "      <th>Vehicle_Age</th>\n",
       "      <th>Vehicle_Damage</th>\n",
       "      <th>Annual_Premium</th>\n",
       "      <th>Policy_Sales_Channel</th>\n",
       "      <th>Vintage</th>\n",
       "      <th>Response</th>\n",
       "    </tr>\n",
       "  </thead>\n",
       "  <tbody>\n",
       "    <tr>\n",
       "      <th>0</th>\n",
       "      <td>1</td>\n",
       "      <td>Male</td>\n",
       "      <td>44</td>\n",
       "      <td>1</td>\n",
       "      <td>28.0</td>\n",
       "      <td>0</td>\n",
       "      <td>&gt; 2 Years</td>\n",
       "      <td>Yes</td>\n",
       "      <td>40454.0</td>\n",
       "      <td>26.0</td>\n",
       "      <td>217</td>\n",
       "      <td>1</td>\n",
       "    </tr>\n",
       "    <tr>\n",
       "      <th>1</th>\n",
       "      <td>2</td>\n",
       "      <td>Male</td>\n",
       "      <td>76</td>\n",
       "      <td>1</td>\n",
       "      <td>3.0</td>\n",
       "      <td>0</td>\n",
       "      <td>1-2 Year</td>\n",
       "      <td>No</td>\n",
       "      <td>33536.0</td>\n",
       "      <td>26.0</td>\n",
       "      <td>183</td>\n",
       "      <td>0</td>\n",
       "    </tr>\n",
       "    <tr>\n",
       "      <th>2</th>\n",
       "      <td>3</td>\n",
       "      <td>Male</td>\n",
       "      <td>47</td>\n",
       "      <td>1</td>\n",
       "      <td>28.0</td>\n",
       "      <td>0</td>\n",
       "      <td>&gt; 2 Years</td>\n",
       "      <td>Yes</td>\n",
       "      <td>38294.0</td>\n",
       "      <td>26.0</td>\n",
       "      <td>27</td>\n",
       "      <td>1</td>\n",
       "    </tr>\n",
       "    <tr>\n",
       "      <th>3</th>\n",
       "      <td>4</td>\n",
       "      <td>Male</td>\n",
       "      <td>21</td>\n",
       "      <td>1</td>\n",
       "      <td>11.0</td>\n",
       "      <td>1</td>\n",
       "      <td>&lt; 1 Year</td>\n",
       "      <td>No</td>\n",
       "      <td>28619.0</td>\n",
       "      <td>152.0</td>\n",
       "      <td>203</td>\n",
       "      <td>0</td>\n",
       "    </tr>\n",
       "    <tr>\n",
       "      <th>4</th>\n",
       "      <td>5</td>\n",
       "      <td>Female</td>\n",
       "      <td>29</td>\n",
       "      <td>1</td>\n",
       "      <td>41.0</td>\n",
       "      <td>1</td>\n",
       "      <td>&lt; 1 Year</td>\n",
       "      <td>No</td>\n",
       "      <td>27496.0</td>\n",
       "      <td>152.0</td>\n",
       "      <td>39</td>\n",
       "      <td>0</td>\n",
       "    </tr>\n",
       "  </tbody>\n",
       "</table>\n",
       "</div>"
      ],
      "text/plain": [
       "   id  Gender  Age  Driving_License  Region_Code  Previously_Insured  \\\n",
       "0   1    Male   44                1         28.0                   0   \n",
       "1   2    Male   76                1          3.0                   0   \n",
       "2   3    Male   47                1         28.0                   0   \n",
       "3   4    Male   21                1         11.0                   1   \n",
       "4   5  Female   29                1         41.0                   1   \n",
       "\n",
       "  Vehicle_Age Vehicle_Damage  Annual_Premium  Policy_Sales_Channel  Vintage  \\\n",
       "0   > 2 Years            Yes         40454.0                  26.0      217   \n",
       "1    1-2 Year             No         33536.0                  26.0      183   \n",
       "2   > 2 Years            Yes         38294.0                  26.0       27   \n",
       "3    < 1 Year             No         28619.0                 152.0      203   \n",
       "4    < 1 Year             No         27496.0                 152.0       39   \n",
       "\n",
       "   Response  \n",
       "0         1  \n",
       "1         0  \n",
       "2         1  \n",
       "3         0  \n",
       "4         0  "
      ]
     },
     "execution_count": 11,
     "metadata": {},
     "output_type": "execute_result"
    }
   ],
   "source": [
    "df = pd.read_csv( 'datasets/train.csv', low_memory=False )\n",
    "df.head()"
   ]
  },
  {
   "cell_type": "markdown",
   "id": "51fdb6a6",
   "metadata": {
    "heading_collapsed": true
   },
   "source": [
    "# 1.0 Data Description"
   ]
  },
  {
   "cell_type": "markdown",
   "id": "d7604a2f",
   "metadata": {
    "heading_collapsed": true,
    "hidden": true
   },
   "source": [
    "## 1.1 Data Dimension"
   ]
  },
  {
   "cell_type": "code",
   "execution_count": 3,
   "id": "2bbc1e23",
   "metadata": {
    "ExecuteTime": {
     "end_time": "2022-07-07T22:19:17.968704Z",
     "start_time": "2022-07-07T22:19:17.963528Z"
    },
    "hidden": true
   },
   "outputs": [
    {
     "name": "stdout",
     "output_type": "stream",
     "text": [
      "Number of Rows 381109\n",
      "Number of Cols 12\n"
     ]
    }
   ],
   "source": [
    "print(f'Number of Rows {df.shape[0]}')\n",
    "print(f'Number of Cols {df.shape[1]}')"
   ]
  },
  {
   "cell_type": "markdown",
   "id": "44b65f42",
   "metadata": {
    "heading_collapsed": true,
    "hidden": true
   },
   "source": [
    "## 1.2 Data Types"
   ]
  },
  {
   "cell_type": "code",
   "execution_count": 4,
   "id": "32987306",
   "metadata": {
    "ExecuteTime": {
     "end_time": "2022-07-06T13:12:46.936764Z",
     "start_time": "2022-07-06T13:12:46.925224Z"
    },
    "hidden": true
   },
   "outputs": [
    {
     "data": {
      "text/plain": [
       "id                        int64\n",
       "Gender                   object\n",
       "Age                       int64\n",
       "Driving_License           int64\n",
       "Region_Code             float64\n",
       "Previously_Insured        int64\n",
       "Vehicle_Age              object\n",
       "Vehicle_Damage           object\n",
       "Annual_Premium          float64\n",
       "Policy_Sales_Channel    float64\n",
       "Vintage                   int64\n",
       "Response                  int64\n",
       "dtype: object"
      ]
     },
     "execution_count": 4,
     "metadata": {},
     "output_type": "execute_result"
    }
   ],
   "source": [
    "df.dtypes"
   ]
  },
  {
   "cell_type": "markdown",
   "id": "1db2198a",
   "metadata": {
    "heading_collapsed": true,
    "hidden": true
   },
   "source": [
    "## 1.3 Check NA"
   ]
  },
  {
   "cell_type": "code",
   "execution_count": 5,
   "id": "4050a78a",
   "metadata": {
    "ExecuteTime": {
     "end_time": "2022-07-06T13:12:53.110866Z",
     "start_time": "2022-07-06T13:12:52.843077Z"
    },
    "hidden": true
   },
   "outputs": [
    {
     "data": {
      "text/plain": [
       "id                      0\n",
       "Gender                  0\n",
       "Age                     0\n",
       "Driving_License         0\n",
       "Region_Code             0\n",
       "Previously_Insured      0\n",
       "Vehicle_Age             0\n",
       "Vehicle_Damage          0\n",
       "Annual_Premium          0\n",
       "Policy_Sales_Channel    0\n",
       "Vintage                 0\n",
       "Response                0\n",
       "dtype: int64"
      ]
     },
     "execution_count": 5,
     "metadata": {},
     "output_type": "execute_result"
    }
   ],
   "source": [
    "df.isna().sum()"
   ]
  },
  {
   "cell_type": "markdown",
   "id": "d85a9aaf",
   "metadata": {
    "heading_collapsed": true,
    "hidden": true
   },
   "source": [
    "## 1.4 Variáveis"
   ]
  },
  {
   "cell_type": "markdown",
   "id": "2c42ed1c",
   "metadata": {
    "ExecuteTime": {
     "end_time": "2022-07-06T13:12:55.788536Z",
     "start_time": "2022-07-06T13:12:55.776075Z"
    },
    "hidden": true
   },
   "source": [
    "    id : ID exclusivo para o cliente\n",
    "    \n",
    "    Gender: Gênero do cliente\n",
    "    \n",
    "    Age: Idade do cliente\n",
    "    \n",
    "    Driving_License:\n",
    "\n",
    "          0 : O cliente não tem DL, \n",
    "          1 : O cliente já tem DL\n",
    "\n",
    "    Region_Code: Código para a região do cliente\n",
    "    \n",
    "    Previously_Insured:\n",
    "\n",
    "          1 : Cliente já possui Seguro de Veículo, \n",
    "          0 : Cliente não tem Seguro de Veículo\n",
    "\n",
    "    Vehicle_Age: Idade do Veículo\n",
    "    \n",
    "    Vehicle_Damage:\n",
    "\n",
    "          1 : O cliente teve seu veículo danificado no passado. \n",
    "          0 : O cliente não teve seu veículo danificado no passado.\n",
    "\n",
    "    Annual_Premium: O valor que o cliente pagou à empresa pelo seguro de saúde anual.\n",
    "    \n",
    "    PolicySalesChannel: Código anônimo para o canal de divulgação ao cliente, por exemplo, por correio, por telefone, pessoalmente, etc.\n",
    "    \n",
    "    Vintage: Número de dias que o cliente se associou à empresa através da compra do seguro de saúde.\n",
    "\n",
    "    Response:\n",
    "\n",
    "          1 : O cliente está interessado, \n",
    "          0 : O cliente não está interessado\n",
    "\n",
    "\n"
   ]
  },
  {
   "cell_type": "markdown",
   "id": "9f41fba2",
   "metadata": {
    "heading_collapsed": true,
    "hidden": true
   },
   "source": [
    "## 1.5 Descriptive Statistical"
   ]
  },
  {
   "cell_type": "code",
   "execution_count": 13,
   "id": "6ed124df",
   "metadata": {
    "ExecuteTime": {
     "end_time": "2022-07-11T18:24:38.574116Z",
     "start_time": "2022-07-11T18:24:38.555873Z"
    },
    "hidden": true
   },
   "outputs": [],
   "source": [
    "num_attributes = df.select_dtypes( include = ['int64', 'float64'])\n",
    "cat_attributes = df.select_dtypes( include = ['object'])"
   ]
  },
  {
   "cell_type": "markdown",
   "id": "9dc998a7",
   "metadata": {
    "heading_collapsed": true,
    "hidden": true
   },
   "source": [
    "### 1.5.1 Numerical Attributes"
   ]
  },
  {
   "cell_type": "code",
   "execution_count": 10,
   "id": "30b3848f",
   "metadata": {
    "ExecuteTime": {
     "end_time": "2022-07-06T13:18:24.862517Z",
     "start_time": "2022-07-06T13:18:23.672324Z"
    },
    "hidden": true
   },
   "outputs": [
    {
     "data": {
      "text/html": [
       "<div>\n",
       "<style scoped>\n",
       "    .dataframe tbody tr th:only-of-type {\n",
       "        vertical-align: middle;\n",
       "    }\n",
       "\n",
       "    .dataframe tbody tr th {\n",
       "        vertical-align: top;\n",
       "    }\n",
       "\n",
       "    .dataframe thead th {\n",
       "        text-align: right;\n",
       "    }\n",
       "</style>\n",
       "<table border=\"1\" class=\"dataframe\">\n",
       "  <thead>\n",
       "    <tr style=\"text-align: right;\">\n",
       "      <th></th>\n",
       "      <th>attributes</th>\n",
       "      <th>min</th>\n",
       "      <th>max</th>\n",
       "      <th>range</th>\n",
       "      <th>mean</th>\n",
       "      <th>median</th>\n",
       "      <th>std</th>\n",
       "      <th>skew</th>\n",
       "      <th>kurtosis</th>\n",
       "    </tr>\n",
       "  </thead>\n",
       "  <tbody>\n",
       "    <tr>\n",
       "      <th>0</th>\n",
       "      <td>id</td>\n",
       "      <td>1.00</td>\n",
       "      <td>381109.00</td>\n",
       "      <td>381108.00</td>\n",
       "      <td>190555.00</td>\n",
       "      <td>190555.00</td>\n",
       "      <td>110016.69</td>\n",
       "      <td>0.00</td>\n",
       "      <td>-1.20</td>\n",
       "    </tr>\n",
       "    <tr>\n",
       "      <th>1</th>\n",
       "      <td>Age</td>\n",
       "      <td>20.00</td>\n",
       "      <td>85.00</td>\n",
       "      <td>65.00</td>\n",
       "      <td>38.82</td>\n",
       "      <td>36.00</td>\n",
       "      <td>15.51</td>\n",
       "      <td>0.67</td>\n",
       "      <td>-0.57</td>\n",
       "    </tr>\n",
       "    <tr>\n",
       "      <th>2</th>\n",
       "      <td>Driving_License</td>\n",
       "      <td>0.00</td>\n",
       "      <td>1.00</td>\n",
       "      <td>1.00</td>\n",
       "      <td>1.00</td>\n",
       "      <td>1.00</td>\n",
       "      <td>0.05</td>\n",
       "      <td>-21.60</td>\n",
       "      <td>464.35</td>\n",
       "    </tr>\n",
       "    <tr>\n",
       "      <th>3</th>\n",
       "      <td>Region_Code</td>\n",
       "      <td>0.00</td>\n",
       "      <td>52.00</td>\n",
       "      <td>52.00</td>\n",
       "      <td>26.39</td>\n",
       "      <td>28.00</td>\n",
       "      <td>13.23</td>\n",
       "      <td>-0.12</td>\n",
       "      <td>-0.87</td>\n",
       "    </tr>\n",
       "    <tr>\n",
       "      <th>4</th>\n",
       "      <td>Previously_Insured</td>\n",
       "      <td>0.00</td>\n",
       "      <td>1.00</td>\n",
       "      <td>1.00</td>\n",
       "      <td>0.46</td>\n",
       "      <td>0.00</td>\n",
       "      <td>0.50</td>\n",
       "      <td>0.17</td>\n",
       "      <td>-1.97</td>\n",
       "    </tr>\n",
       "    <tr>\n",
       "      <th>5</th>\n",
       "      <td>Annual_Premium</td>\n",
       "      <td>2630.00</td>\n",
       "      <td>540165.00</td>\n",
       "      <td>537535.00</td>\n",
       "      <td>30564.39</td>\n",
       "      <td>31669.00</td>\n",
       "      <td>17213.13</td>\n",
       "      <td>1.77</td>\n",
       "      <td>34.00</td>\n",
       "    </tr>\n",
       "    <tr>\n",
       "      <th>6</th>\n",
       "      <td>Policy_Sales_Channel</td>\n",
       "      <td>1.00</td>\n",
       "      <td>163.00</td>\n",
       "      <td>162.00</td>\n",
       "      <td>112.03</td>\n",
       "      <td>133.00</td>\n",
       "      <td>54.20</td>\n",
       "      <td>-0.90</td>\n",
       "      <td>-0.97</td>\n",
       "    </tr>\n",
       "    <tr>\n",
       "      <th>7</th>\n",
       "      <td>Vintage</td>\n",
       "      <td>10.00</td>\n",
       "      <td>299.00</td>\n",
       "      <td>289.00</td>\n",
       "      <td>154.35</td>\n",
       "      <td>154.00</td>\n",
       "      <td>83.67</td>\n",
       "      <td>0.00</td>\n",
       "      <td>-1.20</td>\n",
       "    </tr>\n",
       "    <tr>\n",
       "      <th>8</th>\n",
       "      <td>Response</td>\n",
       "      <td>0.00</td>\n",
       "      <td>1.00</td>\n",
       "      <td>1.00</td>\n",
       "      <td>0.12</td>\n",
       "      <td>0.00</td>\n",
       "      <td>0.33</td>\n",
       "      <td>2.30</td>\n",
       "      <td>3.30</td>\n",
       "    </tr>\n",
       "  </tbody>\n",
       "</table>\n",
       "</div>"
      ],
      "text/plain": [
       "             attributes     min       max     range      mean    median  \\\n",
       "0                    id    1.00 381109.00 381108.00 190555.00 190555.00   \n",
       "1                   Age   20.00     85.00     65.00     38.82     36.00   \n",
       "2       Driving_License    0.00      1.00      1.00      1.00      1.00   \n",
       "3           Region_Code    0.00     52.00     52.00     26.39     28.00   \n",
       "4    Previously_Insured    0.00      1.00      1.00      0.46      0.00   \n",
       "5        Annual_Premium 2630.00 540165.00 537535.00  30564.39  31669.00   \n",
       "6  Policy_Sales_Channel    1.00    163.00    162.00    112.03    133.00   \n",
       "7               Vintage   10.00    299.00    289.00    154.35    154.00   \n",
       "8              Response    0.00      1.00      1.00      0.12      0.00   \n",
       "\n",
       "        std   skew  kurtosis  \n",
       "0 110016.69   0.00     -1.20  \n",
       "1     15.51   0.67     -0.57  \n",
       "2      0.05 -21.60    464.35  \n",
       "3     13.23  -0.12     -0.87  \n",
       "4      0.50   0.17     -1.97  \n",
       "5  17213.13   1.77     34.00  \n",
       "6     54.20  -0.90     -0.97  \n",
       "7     83.67   0.00     -1.20  \n",
       "8      0.33   2.30      3.30  "
      ]
     },
     "execution_count": 10,
     "metadata": {},
     "output_type": "execute_result"
    }
   ],
   "source": [
    "pd.options.display.float_format = '{:.2f}'.format\n",
    "# Central tendency - mean, median\n",
    "ct1 = pd.DataFrame( num_attributes.apply( np.mean )).T\n",
    "ct2 = pd.DataFrame( num_attributes.apply( np.median )).T\n",
    "\n",
    "# dispersion - std, min, max, range, skew, kurtosis\n",
    "d1 = pd.DataFrame( num_attributes.apply( np.std )).T\n",
    "d2 = pd.DataFrame( num_attributes.apply( min )).T\n",
    "d3 = pd.DataFrame( num_attributes.apply( max )).T\n",
    "d4 = pd.DataFrame( num_attributes.apply( lambda x: x.max() - x.min() )).T\n",
    "d5 = pd.DataFrame( num_attributes.apply( lambda x: x.skew() )).T\n",
    "d6 = pd.DataFrame( num_attributes.apply( lambda x: x.kurtosis() )).T\n",
    "\n",
    "#concat\n",
    "m = pd.concat( [d2, d3, d4, ct1, ct2, d1, d5, d6] ).T.reset_index()\n",
    "m.columns = ['attributes', 'min', 'max', 'range', 'mean', 'median', 'std', 'skew', 'kurtosis'] \n",
    "m"
   ]
  },
  {
   "cell_type": "markdown",
   "id": "e7e6b615",
   "metadata": {
    "heading_collapsed": true,
    "hidden": true
   },
   "source": [
    "### 1.5.2 Categorical Attributes"
   ]
  },
  {
   "cell_type": "code",
   "execution_count": 42,
   "id": "21bcc8e7",
   "metadata": {
    "ExecuteTime": {
     "end_time": "2022-07-11T18:56:38.551958Z",
     "start_time": "2022-07-11T18:55:52.880964Z"
    },
    "hidden": true
   },
   "outputs": [
    {
     "data": {
      "image/png": "[encoded data removed]",
      "text/plain": [
       "<Figure size 1152x864 with 3 Axes>"
      ]
     },
     "metadata": {
      "needs_background": "light"
     },
     "output_type": "display_data"
    }
   ],
   "source": [
    "plt.figure(figsize=(16,12))\n",
    "plt.subplot( 2, 3, 1 )\n",
    "sns.barplot( x='Gender', y='Response', data=df )\n",
    "# sns.despine(offset = 10, trim = True)\n",
    "plt.title('Interessados no seguro por gênero')\n",
    "\n",
    "plt.subplot( 2, 3, 2 )\n",
    "sns.barplot( x='Vehicle_Age', y='Response', data=df )\n",
    "sns.despine(offset = 10, trim = True)\n",
    "plt.title('Interessados no seguro pela idade do veículo')\n",
    "\n",
    "plt.subplot( 2, 3, 3 )\n",
    "sns.barplot( x='Vehicle_Damage', y='Response', data=df )\n",
    "sns.despine(offset = 10, trim = True)\n",
    "plt.title('Veículo danificado no passado');"
   ]
  },
  {
   "cell_type": "code",
   "execution_count": 12,
   "id": "c4fd2698",
   "metadata": {
    "ExecuteTime": {
     "end_time": "2022-07-06T13:21:07.783409Z",
     "start_time": "2022-07-06T13:21:07.766811Z"
    },
    "hidden": true
   },
   "outputs": [
    {
     "data": {
      "text/plain": [
       "0   87.74\n",
       "1   12.26\n",
       "Name: Response, dtype: float64"
      ]
     },
     "execution_count": 12,
     "metadata": {},
     "output_type": "execute_result"
    }
   ],
   "source": [
    "round(num_attributes['Response'].value_counts(normalize=True) *100 ,2)"
   ]
  },
  {
   "cell_type": "markdown",
   "id": "55d56e17",
   "metadata": {
    "hidden": true
   },
   "source": [
    "O dado acima demonstra que 12% dos clientes estão interessados em adquirir um seguro para o veículo."
   ]
  },
  {
   "cell_type": "markdown",
   "id": "d928615c",
   "metadata": {
    "heading_collapsed": true
   },
   "source": [
    "# 2.0 Feature Engineering"
   ]
  },
  {
   "cell_type": "code",
   "execution_count": 78,
   "id": "cb0bd9d9",
   "metadata": {
    "ExecuteTime": {
     "end_time": "2022-07-11T20:39:29.400011Z",
     "start_time": "2022-07-11T20:39:28.496215Z"
    },
    "hidden": true
   },
   "outputs": [],
   "source": [
    "#vehicle age\n",
    "df['Vehicle_Age'] = df['Vehicle_Age'].apply( lambda x: 'over_2years' if x == '> 2 Years' else 'between_1_2years' \n",
    "\n",
    "                                                                       if x == '1-2 Year' else 'below_1_year')\n",
    "\n",
    "#vehicle damage\n",
    "df['Vehicle_Damage'] = df['Vehicle_Damage'].apply( lambda x: 1 if x == 'Yes' else 0 )"
   ]
  },
  {
   "cell_type": "code",
   "execution_count": 2,
   "id": "fbbd803b",
   "metadata": {
    "ExecuteTime": {
     "end_time": "2022-07-12T12:30:46.696574Z",
     "start_time": "2022-07-12T12:30:46.118488Z"
    },
    "hidden": true
   },
   "outputs": [],
   "source": [
    "# df.to_csv('datasets/df.csv', index_label=False )\n",
    "df2 = pd.read_csv( 'datasets/df.csv', low_memory=False )"
   ]
  },
  {
   "cell_type": "markdown",
   "id": "a611abe6",
   "metadata": {
    "heading_collapsed": true
   },
   "source": [
    "# 3.0 EDA"
   ]
  },
  {
   "cell_type": "markdown",
   "id": "00f9bcd1",
   "metadata": {
    "heading_collapsed": true,
    "hidden": true
   },
   "source": [
    "## 3.1 Univariate Analysis"
   ]
  },
  {
   "cell_type": "markdown",
   "id": "91894f1d",
   "metadata": {
    "heading_collapsed": true,
    "hidden": true
   },
   "source": [
    "### 3.1.1 Age"
   ]
  },
  {
   "cell_type": "code",
   "execution_count": 43,
   "id": "05a7f21d",
   "metadata": {
    "ExecuteTime": {
     "end_time": "2022-07-11T19:01:19.581481Z",
     "start_time": "2022-07-11T19:01:17.286721Z"
    },
    "hidden": true
   },
   "outputs": [
    {
     "data": {
      "image/png": "[encoded data removed]",
      "text/plain": [
       "<Figure size 1152x864 with 3 Axes>"
      ]
     },
     "metadata": {
      "needs_background": "light"
     },
     "output_type": "display_data"
    }
   ],
   "source": [
    "plt.figure(figsize=(16,12))\n",
    "\n",
    "plt.subplot (2,3,1)\n",
    "sns.boxplot( x='Response', y='Age', data=df2)\n",
    "plt.title('Distribuição baseada na idade do segurado')\n",
    "sns.despine(trim=True)\n",
    "\n",
    "plt.subplot (2,3,2)\n",
    "aux00 = df2.loc[df2['Response'] == 0, 'Age']\n",
    "sns.histplot(aux00)\n",
    "plt.title('Não interessados no seguro pela idade do segurado')\n",
    "sns.despine(trim=True)\n",
    "\n",
    "plt.subplot (2,3,3)\n",
    "aux01 = df2.loc[df2['Response'] == 1, 'Age']\n",
    "sns.histplot(aux01)\n",
    "plt.title('Interessados no seguro pela idade do segurado');\n",
    "sns.despine(trim=True)"
   ]
  },
  {
   "cell_type": "markdown",
   "id": "2913a938",
   "metadata": {
    "hidden": true
   },
   "source": [
    "Pessoas mais velhas, acima de 35 anos, tem mais interesse no seguro."
   ]
  },
  {
   "cell_type": "markdown",
   "id": "4bd4811f",
   "metadata": {
    "ExecuteTime": {
     "end_time": "2022-07-11T19:35:46.011979Z",
     "start_time": "2022-07-11T19:35:46.001417Z"
    },
    "heading_collapsed": true,
    "hidden": true
   },
   "source": [
    "### 3.1.2 Annual Premium"
   ]
  },
  {
   "cell_type": "code",
   "execution_count": 47,
   "id": "428ca909",
   "metadata": {
    "ExecuteTime": {
     "end_time": "2022-07-11T19:06:03.237606Z",
     "start_time": "2022-07-11T19:06:01.076053Z"
    },
    "hidden": true
   },
   "outputs": [
    {
     "data": {
      "image/png": "[encoded data removed]",
      "text/plain": [
       "<Figure size 1152x864 with 3 Axes>"
      ]
     },
     "metadata": {
      "needs_background": "light"
     },
     "output_type": "display_data"
    }
   ],
   "source": [
    "plt.figure(figsize=(16,12))\n",
    "\n",
    "plt.subplot (2,3,1)\n",
    "aux10 = df2[(df2['Annual_Premium'] > 10000) & (df2['Annual_Premium'] < 80000)]\n",
    "sns.boxplot( x='Response', y='Annual_Premium', data=aux10)\n",
    "plt.title('Distribuição baseada no seguro saúde')\n",
    "sns.despine(trim=True)\n",
    "\n",
    "plt.subplot (2,3,2)\n",
    "aux11 = aux10.loc[aux10['Response'] == 0, 'Annual_Premium']\n",
    "sns.histplot(aux11)\n",
    "plt.title('Não interessados pelo valor do seguro saúde')\n",
    "sns.despine(trim=True)\n",
    "\n",
    "plt.subplot (2,3,3)\n",
    "aux12 = aux10.loc[aux10['Response'] == 1, 'Annual_Premium']\n",
    "sns.histplot(aux12)\n",
    "plt.title('Interessados pelo valor do seguro saúde');\n",
    "sns.despine(trim=True)"
   ]
  },
  {
   "cell_type": "markdown",
   "id": "c886202f",
   "metadata": {
    "heading_collapsed": true,
    "hidden": true
   },
   "source": [
    "### 3.1.3 Driving Licence"
   ]
  },
  {
   "cell_type": "code",
   "execution_count": 50,
   "id": "4a47f91e",
   "metadata": {
    "ExecuteTime": {
     "end_time": "2022-07-11T19:13:53.366944Z",
     "start_time": "2022-07-11T19:13:53.073475Z"
    },
    "hidden": true
   },
   "outputs": [
    {
     "data": {
      "text/html": [
       "<div>\n",
       "<style scoped>\n",
       "    .dataframe tbody tr th:only-of-type {\n",
       "        vertical-align: middle;\n",
       "    }\n",
       "\n",
       "    .dataframe tbody tr th {\n",
       "        vertical-align: top;\n",
       "    }\n",
       "\n",
       "    .dataframe thead th {\n",
       "        text-align: right;\n",
       "    }\n",
       "</style>\n",
       "<table border=\"1\" class=\"dataframe\">\n",
       "  <thead>\n",
       "    <tr style=\"text-align: right;\">\n",
       "      <th></th>\n",
       "      <th>Response</th>\n",
       "      <th>Driving_License</th>\n",
       "      <th>Driving_License_Perc</th>\n",
       "    </tr>\n",
       "  </thead>\n",
       "  <tbody>\n",
       "    <tr>\n",
       "      <th>0</th>\n",
       "      <td>0</td>\n",
       "      <td>333628</td>\n",
       "      <td>87.728276</td>\n",
       "    </tr>\n",
       "    <tr>\n",
       "      <th>1</th>\n",
       "      <td>1</td>\n",
       "      <td>46669</td>\n",
       "      <td>12.271724</td>\n",
       "    </tr>\n",
       "  </tbody>\n",
       "</table>\n",
       "</div>"
      ],
      "text/plain": [
       "   Response  Driving_License  Driving_License_Perc\n",
       "0         0           333628             87.728276\n",
       "1         1            46669             12.271724"
      ]
     },
     "execution_count": 50,
     "metadata": {},
     "output_type": "execute_result"
    },
    {
     "data": {
      "image/png": "[encoded data removed]",
      "text/plain": [
       "<Figure size 432x288 with 1 Axes>"
      ]
     },
     "metadata": {
      "needs_background": "light"
     },
     "output_type": "display_data"
    }
   ],
   "source": [
    "aux20 = df2[['Driving_License', 'Response']].groupby( 'Response' ).sum().reset_index()\n",
    "aux20['Driving_License_Perc'] = (aux20['Driving_License']/aux20['Driving_License'].sum())*100\n",
    "\n",
    "sns.barplot( x='Response', y='Driving_License', data=aux20)\n",
    "sns.despine(trim=True)\n",
    "plt.title('Distribuição baseada na licença para dirigir');\n",
    "\n",
    "aux20.head()"
   ]
  },
  {
   "cell_type": "markdown",
   "id": "02d17d14",
   "metadata": {
    "heading_collapsed": true,
    "hidden": true
   },
   "source": [
    "### 3.1.4 Previously Insured"
   ]
  },
  {
   "cell_type": "code",
   "execution_count": 24,
   "id": "54448c48",
   "metadata": {
    "ExecuteTime": {
     "end_time": "2022-07-06T13:40:01.033820Z",
     "start_time": "2022-07-06T13:40:00.957358Z"
    },
    "hidden": true
   },
   "outputs": [
    {
     "data": {
      "text/html": [
       "<div>\n",
       "<style scoped>\n",
       "    .dataframe tbody tr th:only-of-type {\n",
       "        vertical-align: middle;\n",
       "    }\n",
       "\n",
       "    .dataframe tbody tr th {\n",
       "        vertical-align: top;\n",
       "    }\n",
       "\n",
       "    .dataframe thead th {\n",
       "        text-align: right;\n",
       "    }\n",
       "</style>\n",
       "<table border=\"1\" class=\"dataframe\">\n",
       "  <thead>\n",
       "    <tr style=\"text-align: right;\">\n",
       "      <th>Response</th>\n",
       "      <th>0</th>\n",
       "      <th>1</th>\n",
       "    </tr>\n",
       "    <tr>\n",
       "      <th>Previously_Insured</th>\n",
       "      <th></th>\n",
       "      <th></th>\n",
       "    </tr>\n",
       "  </thead>\n",
       "  <tbody>\n",
       "    <tr>\n",
       "      <th>0</th>\n",
       "      <td>77.45</td>\n",
       "      <td>22.55</td>\n",
       "    </tr>\n",
       "    <tr>\n",
       "      <th>1</th>\n",
       "      <td>99.91</td>\n",
       "      <td>0.09</td>\n",
       "    </tr>\n",
       "  </tbody>\n",
       "</table>\n",
       "</div>"
      ],
      "text/plain": [
       "Response               0     1\n",
       "Previously_Insured            \n",
       "0                  77.45 22.55\n",
       "1                  99.91  0.09"
      ]
     },
     "execution_count": 24,
     "metadata": {},
     "output_type": "execute_result"
    }
   ],
   "source": [
    "pd.crosstab(df2['Previously_Insured'], df2['Response']).apply(lambda x: (x/x.sum())*100, axis=1)"
   ]
  },
  {
   "cell_type": "markdown",
   "id": "8cffc83e",
   "metadata": {
    "hidden": true
   },
   "source": [
    "Os dados acima demonstram que as pessoas não estão interessadas em assinar um novo seguro, pois 0,09% responderam ter interesse em assinar o seguro"
   ]
  },
  {
   "cell_type": "markdown",
   "id": "5c24b295",
   "metadata": {
    "heading_collapsed": true,
    "hidden": true
   },
   "source": [
    "### 3.1.5 Vehicle Age"
   ]
  },
  {
   "cell_type": "code",
   "execution_count": 25,
   "id": "0061de6e",
   "metadata": {
    "ExecuteTime": {
     "end_time": "2022-07-06T13:40:55.292761Z",
     "start_time": "2022-07-06T13:40:55.219424Z"
    },
    "hidden": true
   },
   "outputs": [
    {
     "data": {
      "text/html": [
       "<div>\n",
       "<style scoped>\n",
       "    .dataframe tbody tr th:only-of-type {\n",
       "        vertical-align: middle;\n",
       "    }\n",
       "\n",
       "    .dataframe tbody tr th {\n",
       "        vertical-align: top;\n",
       "    }\n",
       "\n",
       "    .dataframe thead th {\n",
       "        text-align: right;\n",
       "    }\n",
       "</style>\n",
       "<table border=\"1\" class=\"dataframe\">\n",
       "  <thead>\n",
       "    <tr style=\"text-align: right;\">\n",
       "      <th></th>\n",
       "      <th>Vehicle_Age</th>\n",
       "      <th>Response</th>\n",
       "      <th>0</th>\n",
       "    </tr>\n",
       "  </thead>\n",
       "  <tbody>\n",
       "    <tr>\n",
       "      <th>0</th>\n",
       "      <td>between_1_2years</td>\n",
       "      <td>0</td>\n",
       "      <td>0.43</td>\n",
       "    </tr>\n",
       "    <tr>\n",
       "      <th>1</th>\n",
       "      <td>below_1_year</td>\n",
       "      <td>0</td>\n",
       "      <td>0.41</td>\n",
       "    </tr>\n",
       "    <tr>\n",
       "      <th>2</th>\n",
       "      <td>between_1_2years</td>\n",
       "      <td>1</td>\n",
       "      <td>0.09</td>\n",
       "    </tr>\n",
       "    <tr>\n",
       "      <th>3</th>\n",
       "      <td>over_2years</td>\n",
       "      <td>0</td>\n",
       "      <td>0.03</td>\n",
       "    </tr>\n",
       "    <tr>\n",
       "      <th>4</th>\n",
       "      <td>below_1_year</td>\n",
       "      <td>1</td>\n",
       "      <td>0.02</td>\n",
       "    </tr>\n",
       "    <tr>\n",
       "      <th>5</th>\n",
       "      <td>over_2years</td>\n",
       "      <td>1</td>\n",
       "      <td>0.01</td>\n",
       "    </tr>\n",
       "  </tbody>\n",
       "</table>\n",
       "</div>"
      ],
      "text/plain": [
       "        Vehicle_Age  Response    0\n",
       "0  between_1_2years         0 0.43\n",
       "1      below_1_year         0 0.41\n",
       "2  between_1_2years         1 0.09\n",
       "3       over_2years         0 0.03\n",
       "4      below_1_year         1 0.02\n",
       "5       over_2years         1 0.01"
      ]
     },
     "execution_count": 25,
     "metadata": {},
     "output_type": "execute_result"
    }
   ],
   "source": [
    "df2[['Vehicle_Age', 'Response']].value_counts(normalize=True).reset_index()"
   ]
  },
  {
   "cell_type": "markdown",
   "id": "59ace413",
   "metadata": {
    "heading_collapsed": true,
    "hidden": true
   },
   "source": [
    "### 3.1.6 Policy Sales Channel"
   ]
  },
  {
   "cell_type": "code",
   "execution_count": 58,
   "id": "a12e2670",
   "metadata": {
    "ExecuteTime": {
     "end_time": "2022-07-11T19:25:00.759016Z",
     "start_time": "2022-07-11T19:24:56.710137Z"
    },
    "hidden": true
   },
   "outputs": [
    {
     "data": {
      "image/png": "[encoded data removed]",
      "text/plain": [
       "<Figure size 1728x864 with 1 Axes>"
      ]
     },
     "metadata": {
      "needs_background": "light"
     },
     "output_type": "display_data"
    }
   ],
   "source": [
    "plt.figure( figsize=(24, 12) )\n",
    "aux40 = df2[['Policy_Sales_Channel', 'Response']].groupby( 'Policy_Sales_Channel' ).sum().reset_index()\n",
    "sns.barplot( x = 'Response', y = 'Policy_Sales_Channel', data = aux40)\n",
    "sns.despine(trim=True)\n",
    "plt.title('Distribuição de interessados baseada no canal de contato', fontsize=20);"
   ]
  },
  {
   "cell_type": "markdown",
   "id": "4e8557af",
   "metadata": {
    "heading_collapsed": true,
    "hidden": true
   },
   "source": [
    "### 3.1.7 Vintage"
   ]
  },
  {
   "cell_type": "code",
   "execution_count": 63,
   "id": "756459ff",
   "metadata": {
    "ExecuteTime": {
     "end_time": "2022-07-11T19:32:02.697454Z",
     "start_time": "2022-07-11T19:32:00.582397Z"
    },
    "hidden": true
   },
   "outputs": [
    {
     "data": {
      "image/png": "[encoded data removed]",
      "text/plain": [
       "<Figure size 1152x864 with 3 Axes>"
      ]
     },
     "metadata": {
      "needs_background": "light"
     },
     "output_type": "display_data"
    }
   ],
   "source": [
    "plt.figure(figsize=(16,12))\n",
    "\n",
    "plt.subplot (2,3,1)\n",
    "sns.boxplot( x='Response', y='Vintage', data=df2)\n",
    "sns.despine(trim=True)\n",
    "plt.title('Distribuição pelo tempo que tem o seguro saúde')\n",
    "\n",
    "plt.subplot (2,3,2)\n",
    "aux11 = df2.loc[df2['Response'] == 0, 'Vintage']\n",
    "sns.histplot(aux11)\n",
    "sns.despine(trim=True)\n",
    "plt.title('Não interessados pelo tempo que tem o seguro saúde')\n",
    "\n",
    "plt.subplot (2,3,3)\n",
    "aux12 = df2.loc[df2['Response'] == 1, 'Vintage']\n",
    "sns.histplot(aux12)\n",
    "sns.despine(trim=True)\n",
    "plt.title('Interessados pelo tempo que tem o seguro saúde');"
   ]
  },
  {
   "cell_type": "markdown",
   "id": "49827a8b",
   "metadata": {
    "heading_collapsed": true
   },
   "source": [
    "# 4.0 Data Preparation"
   ]
  },
  {
   "cell_type": "code",
   "execution_count": 3,
   "id": "64b6f0cd",
   "metadata": {
    "ExecuteTime": {
     "end_time": "2022-07-12T12:30:54.306085Z",
     "start_time": "2022-07-12T12:30:54.141804Z"
    },
    "hidden": true
   },
   "outputs": [],
   "source": [
    "X = df2.drop( 'Response', axis=1 )\n",
    "y = df2['Response'].copy()\n",
    "\n",
    "x_train, x_validation, y_train, y_validation = ms.train_test_split( X, y, test_size=0.20 )\n",
    "\n",
    "df3 = pd.concat( [x_train, y_train], axis=1)"
   ]
  },
  {
   "cell_type": "code",
   "execution_count": 32,
   "id": "dc3949c4",
   "metadata": {
    "ExecuteTime": {
     "end_time": "2022-07-06T13:49:22.060859Z",
     "start_time": "2022-07-06T13:49:21.844027Z"
    },
    "hidden": true
   },
   "outputs": [],
   "source": [
    "# y_validation.to_csv('datasets/y_validation.csv', index_label=False )"
   ]
  },
  {
   "cell_type": "markdown",
   "id": "45af41a0",
   "metadata": {
    "heading_collapsed": true,
    "hidden": true
   },
   "source": [
    "## 4.1 Standartization"
   ]
  },
  {
   "cell_type": "code",
   "execution_count": 4,
   "id": "482cf2d3",
   "metadata": {
    "ExecuteTime": {
     "end_time": "2022-07-12T12:31:00.819068Z",
     "start_time": "2022-07-12T12:31:00.789501Z"
    },
    "hidden": true
   },
   "outputs": [],
   "source": [
    "ss = pp.StandardScaler()\n",
    "\n",
    "#Annual_Premium\n",
    "\n",
    "df3['Annual_Premium'] = ss.fit_transform(df3[['Annual_Premium']].values)\n",
    "# pickle.dump( ss, open('/home/alex/repos/repos/projeto_PA004/parameter/Annual_Premium_Scaler.pkl', 'wb'))"
   ]
  },
  {
   "cell_type": "markdown",
   "id": "9fb42b3d",
   "metadata": {
    "heading_collapsed": true,
    "hidden": true
   },
   "source": [
    "## 4.2 Recaling"
   ]
  },
  {
   "cell_type": "code",
   "execution_count": 5,
   "id": "0dcc792c",
   "metadata": {
    "ExecuteTime": {
     "end_time": "2022-07-12T12:31:05.704901Z",
     "start_time": "2022-07-12T12:31:05.669736Z"
    },
    "hidden": true
   },
   "outputs": [],
   "source": [
    "mms_age = pp.MinMaxScaler()\n",
    "mms_vintage = pp.MinMaxScaler()\n",
    "\n",
    "#Age\n",
    "\n",
    "df3['Age'] = mms_age.fit_transform( df3[['Age']].values )\n",
    "# pickle.dump( mms_age, open('/home/alex/repos/repos/projeto_PA004/parameter/Age_Scaler.pkl', 'wb'))\n",
    "\n",
    "#Vintage\n",
    "\n",
    "df3['Vintage'] = mms_vintage.fit_transform( df3[['Vintage']].values )\n",
    "# pickle.dump( mms_vintage, open('/home/alex/repos/repos/projeto_PA004/parameter/Vintage_Scaler.pkl', 'wb'))"
   ]
  },
  {
   "cell_type": "markdown",
   "id": "af5f7955",
   "metadata": {
    "heading_collapsed": true,
    "hidden": true
   },
   "source": [
    "## 4.3 Encoder"
   ]
  },
  {
   "cell_type": "code",
   "execution_count": 6,
   "id": "0839a14b",
   "metadata": {
    "ExecuteTime": {
     "end_time": "2022-07-12T12:31:11.208778Z",
     "start_time": "2022-07-12T12:31:10.996792Z"
    },
    "hidden": true
   },
   "outputs": [],
   "source": [
    "#Gender - Target Encoding\n",
    "\n",
    "te_Gender = df3.groupby( 'Gender' )[ 'Response' ].mean()\n",
    "df3.loc[:, 'Gender'] = df3[ 'Gender' ].map( te_Gender )\n",
    "# pickle.dump( te_Gender, open('/home/alex/repos/repos/projeto_PA004/parameter/Gender_Scaler.pkl', 'wb'))\n",
    "\n",
    "#Region_Code - Target Encoding\n",
    "te_region_code = df3.groupby( 'Region_Code' )[ 'Response' ].mean()\n",
    "df3.loc[:, 'Region_Code'] = df3[ 'Region_Code' ].map( te_region_code )\n",
    "# pickle.dump( te_region_code, open('/home/alex/repos/repos/projeto_PA004/parameter/Region_Code_Scaler.pkl', 'wb'))\n",
    "\n",
    "#Vehicle_Age - One Hot Encoding\n",
    "\n",
    "df3 = pd.get_dummies( df3, prefix = 'Vehicle_Age', columns = ['Vehicle_Age'])\n",
    "\n",
    "#Policy_Sales_Channel - Frequency Encoding\n",
    "\n",
    "fe_policy_sales_channel = df3.groupby( 'Policy_Sales_Channel' ).size() / len( df3 )\n",
    "df3.loc[:, 'Policy_Sales_Channel'] = df3['Policy_Sales_Channel'].map(fe_policy_sales_channel)\n",
    "# pickle.dump( fe_policy_sales_channel, open('/home/alex/repos/repos/projeto_PA004/parameter/Policy_Sales_Channel_Scaler.pkl', 'wb'))"
   ]
  },
  {
   "cell_type": "markdown",
   "id": "807b20da",
   "metadata": {
    "heading_collapsed": true,
    "hidden": true
   },
   "source": [
    "## 4.4 Validation"
   ]
  },
  {
   "cell_type": "code",
   "execution_count": 7,
   "id": "d85fd97a",
   "metadata": {
    "ExecuteTime": {
     "end_time": "2022-07-12T12:31:36.025074Z",
     "start_time": "2022-07-12T12:31:35.921379Z"
    },
    "hidden": true
   },
   "outputs": [],
   "source": [
    "#Gender\n",
    "\n",
    "x_validation.loc[:, 'Gender' ] = x_validation.loc[:, 'Gender'].map(te_Gender)\n",
    "\n",
    "#Age\n",
    "\n",
    "x_validation.loc[:, 'Age'] = mms_age.transform( x_validation[['Age']].values )\n",
    "\n",
    "#Region_Code\n",
    "\n",
    "x_validation.loc[:, 'Region_Code'] = x_validation.loc[:, 'Region_Code' ].map( te_region_code )\n",
    "\n",
    "#Vehicle_Age\n",
    "\n",
    "x_validation = pd.get_dummies( x_validation, prefix = 'Vehicle_Age', columns = ['Vehicle_Age'])\n",
    "\n",
    "#Annual_Premium\n",
    "\n",
    "x_validation.loc[:, 'Annual_Premium'] = ss.transform(x_validation[['Annual_Premium']].values)\n",
    "\n",
    "#Policy_Sales_Channel\n",
    "\n",
    "x_validation.loc[:, 'Policy_Sales_Channel'] = x_validation['Policy_Sales_Channel'].map(fe_policy_sales_channel)\n",
    "\n",
    "#Vintage\n",
    "\n",
    "x_validation.loc[:, 'Vintage'] = mms_vintage.transform( x_validation[['Vintage']].values )\n",
    "\n",
    "#fillna \n",
    "\n",
    "x_validation = x_validation.fillna( 0 )\n",
    "\n",
    "# x_validation.to_csv('datasets/x_validation.csv', index_label=False )"
   ]
  },
  {
   "cell_type": "markdown",
   "id": "88105233",
   "metadata": {
    "heading_collapsed": true
   },
   "source": [
    "# 5.0 Feature Selection"
   ]
  },
  {
   "cell_type": "markdown",
   "id": "ff5f89cd",
   "metadata": {
    "heading_collapsed": true,
    "hidden": true
   },
   "source": [
    "## 5.1 Features Importance"
   ]
  },
  {
   "cell_type": "code",
   "execution_count": 37,
   "id": "f8c0ffc5",
   "metadata": {
    "ExecuteTime": {
     "end_time": "2022-07-06T14:09:21.446295Z",
     "start_time": "2022-07-06T14:09:21.442614Z"
    },
    "hidden": true
   },
   "outputs": [],
   "source": [
    "# # model definition\n",
    "\n",
    "# forest = en.ExtraTreesClassifier( n_estimators=250, random_state=0, n_jobs=-1)\n",
    "\n",
    "# #data preparation\n",
    "\n",
    "# x_train_n = df3.drop(['id', 'Response'], axis=1)\n",
    "# y_train_n = y_train.values\n",
    "# forest.fit( x_train_n, y_train_n )"
   ]
  },
  {
   "cell_type": "code",
   "execution_count": 38,
   "id": "1d3a1020",
   "metadata": {
    "ExecuteTime": {
     "end_time": "2022-07-06T14:09:22.342823Z",
     "start_time": "2022-07-06T14:09:22.339061Z"
    },
    "hidden": true
   },
   "outputs": [],
   "source": [
    "# importances = forest.feature_importances_\n",
    "# std =np.std([forest.feature_importances_ for tree in forest.estimators_], axis=0)\n",
    "# indices = np.argsort(importances)[::-1]\n",
    "\n",
    "# #print the feature ranking\n",
    "# print(\"Feature ranking:\")\n",
    "# df = pd.DataFrame()\n",
    "# for i, j in zip( x_train_n, forest.feature_importances_):\n",
    "#     aux = pd.DataFrame({'feature':i, 'importance':j}, index=[0])\n",
    "#     df= pd.concat([df, aux], axis=0)\n",
    "\n",
    "# print( df.sort_values( 'importance', ascending=False))\n",
    "\n",
    "# # Plot the impurity_based feature importances of the forest\n",
    "# plt.figure()\n",
    "# plt.title(\"Feature importances\")\n",
    "# pl.bar(range(x_train_n.shape[1]), importances[indices], color=\"r\", yerr=std[indices], align=\"center\")\n",
    "# plt.xticks(range(x_train_n.shape[1]), indices)\n",
    "# plt.xlim([-1, x_train_n.shape[1]])\n",
    "# plt.show()"
   ]
  },
  {
   "cell_type": "code",
   "execution_count": 84,
   "id": "4b47e9b8",
   "metadata": {
    "ExecuteTime": {
     "end_time": "2022-07-11T20:40:34.687892Z",
     "start_time": "2022-07-11T20:40:28.616955Z"
    },
    "hidden": true
   },
   "outputs": [],
   "source": [
    "# df3.to_csv('datasets/df3.csv', index_label=False )"
   ]
  },
  {
   "cell_type": "markdown",
   "id": "6920f26b",
   "metadata": {
    "heading_collapsed": true
   },
   "source": [
    "# 6.0 Machine Learning"
   ]
  },
  {
   "cell_type": "code",
   "execution_count": 9,
   "id": "1bcdb6b2",
   "metadata": {
    "ExecuteTime": {
     "end_time": "2022-07-12T12:29:34.330012Z",
     "start_time": "2022-07-12T12:29:33.555375Z"
    },
    "hidden": true
   },
   "outputs": [],
   "source": [
    "df3 = pd.read_csv( 'datasets/df3.csv', low_memory=False )"
   ]
  },
  {
   "cell_type": "code",
   "execution_count": 10,
   "id": "44b2bf43",
   "metadata": {
    "ExecuteTime": {
     "end_time": "2022-07-12T12:29:34.986923Z",
     "start_time": "2022-07-12T12:29:34.967384Z"
    },
    "hidden": true
   },
   "outputs": [],
   "source": [
    "y_validation = pd.read_csv( 'datasets/y_validation.csv', low_memory=False )"
   ]
  },
  {
   "cell_type": "code",
   "execution_count": 11,
   "id": "cf50d017",
   "metadata": {
    "ExecuteTime": {
     "end_time": "2022-07-12T12:29:36.247434Z",
     "start_time": "2022-07-12T12:29:36.075434Z"
    },
    "hidden": true
   },
   "outputs": [],
   "source": [
    "x_validation = pd.read_csv( 'datasets/x_validation.csv', low_memory=False )"
   ]
  },
  {
   "cell_type": "code",
   "execution_count": 8,
   "id": "f1a3e5dc",
   "metadata": {
    "ExecuteTime": {
     "end_time": "2022-07-12T12:32:00.478214Z",
     "start_time": "2022-07-12T12:32:00.454925Z"
    },
    "hidden": true
   },
   "outputs": [],
   "source": [
    "cols_selected = ['Vintage', 'Annual_Premium', 'Age', 'Region_Code', 'Vehicle_Damage', \n",
    "                 'Policy_Sales_Channel', 'Previously_Insured'  ]\n",
    "\n",
    "x_train = df3[cols_selected]\n",
    "x_val = x_validation[cols_selected]\n",
    "y_val = y_validation.copy()"
   ]
  },
  {
   "cell_type": "markdown",
   "id": "2d501683",
   "metadata": {
    "heading_collapsed": true,
    "hidden": true
   },
   "source": [
    "## 6.1 KNN"
   ]
  },
  {
   "cell_type": "code",
   "execution_count": 40,
   "id": "b0f78020",
   "metadata": {
    "ExecuteTime": {
     "end_time": "2022-07-06T14:09:25.778041Z",
     "start_time": "2022-07-06T14:09:25.771756Z"
    },
    "hidden": true
   },
   "outputs": [],
   "source": [
    "# #model definition\n",
    "# knn_model = nh.kNeighborsClassifier( n_neighbors=2 )\n",
    "\n",
    "# #model training\n",
    "# knn_model.fit( x_train, y_train )\n",
    "\n",
    "# #model prediction - Generalização\n",
    "# yhat_knn = knn_model.predict_proba( x_val )\n",
    "\n",
    "# # accumulative gain\n",
    "# skplt.metrics.plot_cumulative_gain( y_val, yhat_knn );\n"
   ]
  },
  {
   "cell_type": "markdown",
   "id": "62a9b06e",
   "metadata": {
    "hidden": true
   },
   "source": [
    "## 6.2 Logistic Regression"
   ]
  },
  {
   "cell_type": "code",
   "execution_count": 9,
   "id": "b7fdad32",
   "metadata": {
    "ExecuteTime": {
     "end_time": "2022-07-12T12:32:07.687966Z",
     "start_time": "2022-07-12T12:32:05.461844Z"
    },
    "hidden": true
   },
   "outputs": [
    {
     "data": {
      "image/png": "[encoded data removed]",
      "text/plain": [
       "<Figure size 432x288 with 1 Axes>"
      ]
     },
     "metadata": {
      "needs_background": "light"
     },
     "output_type": "display_data"
    }
   ],
   "source": [
    "#model definition\n",
    "lr_model = lm.LogisticRegression( random_state=42 )\n",
    "\n",
    "#model training\n",
    "lr_model.fit( x_train, y_train )\n",
    "\n",
    "#model prediction - Generalização\n",
    "yhat_lr = lr_model.predict_proba( x_val )\n",
    "\n",
    "# accumulative gain\n",
    "skplt.metrics.plot_cumulative_gain( y_val, yhat_lr );"
   ]
  },
  {
   "cell_type": "markdown",
   "id": "85370477",
   "metadata": {
    "heading_collapsed": true,
    "hidden": true
   },
   "source": [
    "## 6.3 Extra Trees"
   ]
  },
  {
   "cell_type": "code",
   "execution_count": 42,
   "id": "c1ac2e43",
   "metadata": {
    "ExecuteTime": {
     "end_time": "2022-07-06T14:09:38.260471Z",
     "start_time": "2022-07-06T14:09:38.257403Z"
    },
    "hidden": true
   },
   "outputs": [],
   "source": [
    "# #model definition\n",
    "# et = en.ExtraTreesClassifier(n_estimators=1000, n_jobs=-1, random_state=42)\n",
    "\n",
    "# #model training\n",
    "# et.fit( x_train, y_train)\n",
    "\n",
    "# #model predict\n",
    "# yhat_et = et.predict_proba( x_val )"
   ]
  },
  {
   "cell_type": "markdown",
   "id": "68582f4f",
   "metadata": {
    "heading_collapsed": true
   },
   "source": [
    "# 7.0 Model Performance"
   ]
  },
  {
   "cell_type": "code",
   "execution_count": 66,
   "id": "b8ccd93f",
   "metadata": {
    "ExecuteTime": {
     "end_time": "2022-07-11T19:47:01.654164Z",
     "start_time": "2022-07-11T19:47:01.308492Z"
    },
    "hidden": true
   },
   "outputs": [],
   "source": [
    "y_validation = pd.read_csv( 'datasets/y_validation.csv', low_memory=False )\n",
    "x_validation = pd.read_csv( 'datasets/x_validation.csv', low_memory=False )"
   ]
  },
  {
   "cell_type": "code",
   "execution_count": 88,
   "id": "0fec8bca",
   "metadata": {
    "ExecuteTime": {
     "end_time": "2022-07-11T20:41:08.000188Z",
     "start_time": "2022-07-11T20:41:07.925284Z"
    },
    "hidden": true
   },
   "outputs": [],
   "source": [
    "# copy data\n",
    "\n",
    "df4 = x_validation.copy()\n",
    "df4['Response'] = y_validation.copy()\n",
    "\n",
    "#propensity score\n",
    "\n",
    "df4['Score']=yhat_lr[:, 1].tolist()\n",
    "\n",
    "# sorted\n",
    "\n",
    "df4 = df4.sort_values( 'Score', ascending=False )"
   ]
  },
  {
   "cell_type": "code",
   "execution_count": 89,
   "id": "89c9abb7",
   "metadata": {
    "ExecuteTime": {
     "end_time": "2022-07-11T20:41:13.979226Z",
     "start_time": "2022-07-11T20:41:13.962276Z"
    },
    "hidden": true
   },
   "outputs": [],
   "source": [
    "''' Precision at k - De todos os exemplos que eu predisse como verdadeiro,\n",
    "                     quantos realmente eram verdadeiros.'''\n",
    "def precision_at_k( data, k=2000 ):\n",
    "\n",
    "    #reset index\n",
    "\n",
    "    data = data.reset_index( drop=True )\n",
    "\n",
    "    #create ranking order\n",
    "\n",
    "    data['Ranking'] = data.index + 1\n",
    "    '''Predições corretas dividido pelas predições realizadas pelo modelo até k'''\n",
    "    data['Precision_at_k'] = data['Response'].cumsum() / data['Ranking']\n",
    "    data[['id', 'Response', 'Score', 'Ranking', 'Precision_at_k']].head()\n",
    "\n",
    "    return data.loc[ k, 'Precision_at_k']\n",
    "\n",
    "''' Recall at k - De todos os exemplos que são realmente verdadeiros, \n",
    "                  quantos foram preditos verdadeiros'''\n",
    "def recall_at_k( data, k=2000 ):\n",
    "\n",
    "    #reset index\n",
    "\n",
    "    data = data.reset_index( drop=True )\n",
    "    \n",
    "    #create ranking order\n",
    "\n",
    "    data['Ranking'] = data.index + 1\n",
    "    '''Predições corretas até k dividido por todos os exemplos verdadeiros'''\n",
    "    data['Recall_at_k'] = data['Response'].cumsum() / data['Response'].sum()\n",
    "    data[['id', 'Response', 'Score', 'Ranking', 'Recall_at_k']].head()\n",
    "    \n",
    "    return data.loc[ k, 'Recall_at_k']"
   ]
  },
  {
   "cell_type": "code",
   "execution_count": 90,
   "id": "5ca3e4c4",
   "metadata": {
    "ExecuteTime": {
     "end_time": "2022-07-11T20:41:15.822113Z",
     "start_time": "2022-07-11T20:41:15.742212Z"
    },
    "hidden": true
   },
   "outputs": [
    {
     "name": "stdout",
     "output_type": "stream",
     "text": [
      "Precision at k: 0.1568627450980392\n",
      "Recall at k: 0.0008546095502617242\n"
     ]
    }
   ],
   "source": [
    "# compute precision at k\n",
    "\n",
    "precision_at_50 = precision_at_k( df4, k=50 )\n",
    "print ('Precision at k: {}'.format(precision_at_50))\n",
    "\n",
    "# compute precision at k\n",
    "recall_at_50 = recall_at_k( df4, k=50 )\n",
    "print ('Recall at k: {}'.format(recall_at_50))"
   ]
  },
  {
   "cell_type": "code",
   "execution_count": 91,
   "id": "e3dc9c28",
   "metadata": {
    "ExecuteTime": {
     "end_time": "2022-07-11T20:41:22.596233Z",
     "start_time": "2022-07-11T20:41:21.850996Z"
    },
    "hidden": true
   },
   "outputs": [
    {
     "data": {
      "image/png": "[encoded data removed]",
      "text/plain": [
       "<Figure size 432x288 with 1 Axes>"
      ]
     },
     "metadata": {
      "needs_background": "light"
     },
     "output_type": "display_data"
    }
   ],
   "source": [
    "# lift curve\n",
    "'''Curva Lift mostra quantas vezes o modelo é melhor que a média, \n",
    "   ou seja se fosse feito aleatóriamente'''\n",
    "skplt.metrics.plot_lift_curve( y_val, yhat_lr );"
   ]
  },
  {
   "cell_type": "code",
   "execution_count": 92,
   "id": "8af05641",
   "metadata": {
    "ExecuteTime": {
     "end_time": "2022-07-11T20:41:46.885079Z",
     "start_time": "2022-07-11T20:41:46.328976Z"
    },
    "hidden": true
   },
   "outputs": [
    {
     "data": {
      "image/png": "[encoded data removed]",
      "text/plain": [
       "<Figure size 432x288 with 1 Axes>"
      ]
     },
     "metadata": {
      "needs_background": "light"
     },
     "output_type": "display_data"
    }
   ],
   "source": [
    "# ROC curve\n",
    "skplt.metrics.plot_roc( y_val, yhat_lr );"
   ]
  },
  {
   "cell_type": "markdown",
   "id": "699ecb59",
   "metadata": {
    "heading_collapsed": true
   },
   "source": [
    "# 8.0 Deploy to Production"
   ]
  },
  {
   "cell_type": "code",
   "execution_count": 47,
   "id": "22059ce5",
   "metadata": {
    "ExecuteTime": {
     "end_time": "2022-07-06T14:14:58.251227Z",
     "start_time": "2022-07-06T14:14:58.244382Z"
    },
    "hidden": true
   },
   "outputs": [],
   "source": [
    "# pickle.dump( lr_model, open('/home/alex/repos/repos/projeto_PA004/parameter/model_linear_regression.pkl', 'wb'))"
   ]
  },
  {
   "cell_type": "markdown",
   "id": "e22a4b69",
   "metadata": {
    "heading_collapsed": true,
    "hidden": true
   },
   "source": [
    "## 8.1 Health Insurance Class"
   ]
  },
  {
   "cell_type": "code",
   "execution_count": null,
   "id": "4968269a",
   "metadata": {
    "hidden": true
   },
   "outputs": [],
   "source": [
    "import pickle\n",
    "import numpy as np\n",
    "import pandas as pd\n",
    "\n",
    "class HealthInsurance:\n",
    "\n",
    "    def __init__( self ):\n",
    "       self.Annual_Premium_Scaler        = pickle.load( open ('/home/alex/repos/repos/projeto_PA004/parameter/Annual_Premium_Scaler.pkl', 'rb'))\n",
    "       self.Age_Scaler                   = pickle.load( open ('/home/alex/repos/repos/projeto_PA004/parameter/Age_Scaler.pkl', 'rb'))\n",
    "       self.Vintage_Scaler               = pickle.load( open ('/home/alex/repos/repos/projeto_PA004/parameter/Vintage_Scaler.pkl', 'rb'))\n",
    "       self.Gender_Scaler                = pickle.load( open ('/home/alex/repos/repos/projeto_PA004/parameter/Gender_Scaler.pkl', 'rb'))\n",
    "       self.Region_Code_Scaler           = pickle.load( open ('/home/alex/repos/repos/projeto_PA004/parameter/Region_Code_Scaler.pkl', 'rb'))\n",
    "       self.Policy_Sales_Channel_Scaler  = pickle.load( open ('/home/alex/repos/repos/projeto_PA004/parameter/Policy_Sales_Channel_Scaler.pkl', 'rb'))\n",
    "\n",
    "    def feature_engineering(self, df2):\n",
    "\n",
    "       # vehicle age\n",
    "       df2['Vehicle_Age'] = df2['Vehicle_Age'].apply( lambda x: 'over_2years' if x == '> 2 Years' else 'between_1_2years' \n",
    "\n",
    "                                                                              if x == '1-2 Year' else 'below_1_year')\n",
    "\n",
    "       #vehicle damage\n",
    "       df2['Vehicle_Damage'] = df2['Vehicle_Damage'].apply( lambda x: 1 if x == 'Yes' else 0 )\n",
    "\n",
    "       return df2\n",
    "\n",
    "    def data_preparation(self, df3):\n",
    "\n",
    "      #Annual_Premium\n",
    "      df3['Annual_Premium'] = self.Annual_Premium_Scaler.transform(df3[['Annual_Premium']].values)\n",
    "\n",
    "      #Age\n",
    "      df3['Age'] = self.Age_Scaler.transform( df3[['Age']].values )\n",
    "\n",
    "      #Vintage\n",
    "      df3['Vintage'] = self.Vintage_Scaler.transform( df3[['Vintage']].values )\n",
    "\n",
    "      #Gender - Target Encoding\n",
    "      df3.loc[:, 'Gender'] = df3[ 'Gender' ].map( self.Gender_Scaler )\n",
    "\n",
    "      #Region_Code - Target Encoding\n",
    "      df3.loc[:, 'Region_Code'] = df3[ 'Region_Code' ].map( self.Region_Code_Scaler )\n",
    "\n",
    "      #Vehicle_Age - One Hot Encoding\n",
    "      df3 = pd.get_dummies( df3, prefix = 'Vehicle_Age', columns = ['Vehicle_Age'])\n",
    "\n",
    "      #Policy_Sales_Channel - Frequency Encoding\n",
    "      df3.loc[:, 'Policy_Sales_Channel'] = df3['Policy_Sales_Channel'].map(self.Policy_Sales_Channel_Scaler)\n",
    "\n",
    "      #Feature Selection\n",
    "      cols_selected = ['Vintage', 'Annual_Premium', 'Age', 'Region_Code', 'Vehicle_Damage', \n",
    "\n",
    "                       'Policy_Sales_Channel', 'Previously_Insured']\n",
    "\n",
    "      return df3[ cols_selected ]\n",
    "\n",
    "\n",
    "    def get_prediction( self, model, original_data, test_data):\n",
    "\n",
    "      #model prediction\n",
    "      pred = model.predict_proba( test_data )\n",
    "\n",
    "      #join prediction into original data\n",
    "      original_data['score'] = pred\n",
    "\n",
    "      return original_data.to_json( orient='records', date_format='iso')"
   ]
  },
  {
   "cell_type": "markdown",
   "id": "24199a24",
   "metadata": {
    "heading_collapsed": true,
    "hidden": true
   },
   "source": [
    "## 8.2 API Handler"
   ]
  },
  {
   "cell_type": "code",
   "execution_count": null,
   "id": "651a2650",
   "metadata": {
    "hidden": true
   },
   "outputs": [],
   "source": [
    "import pickle\n",
    "import pandas as pd\n",
    "from flask import Flask, request, Response\n",
    "from healthinsurance import HealthInsurance\n",
    "\n",
    "#loading model\n",
    "model = pickle.load( open('/content/drive/My Drive/PA004/Model/model_linear_regression.pkl', 'rb'))\n",
    "\n",
    "#initialize API\n",
    "app = Flask(__name__)\n",
    "\n",
    "@app.route('/predict', methods=['POST'])\n",
    "def health_insurance_predict():\n",
    "\n",
    "  test_json = request.get_json()\n",
    "\n",
    "  if test_json: # test data\n",
    "    if isinstance( test_json, dict ): #one row\n",
    "      test_raw = pd.DataFrame(test_json, index=[0])\n",
    "\n",
    "    else: #multiple rows\n",
    "      test_raw = pd.DataFrame(test_json, columns=test_json[0].keys())\n",
    "\n",
    "    #instantiate HealthInsurance class\n",
    "    pipeline = HealthInsurance()\n",
    "\n",
    "    #feature engineering\n",
    "    df = pipeline.feature_engineering( test_raw )\n",
    "\n",
    "    #data preparation\n",
    "    df1 = pipeline.data_preparation(df)\n",
    "\n",
    "    #prediction\n",
    "    df_response = pipeline.get_prediction(model, test_raw, df3)\n",
    "\n",
    "    return df_response\n",
    "\n",
    "  else:\n",
    "    return Response( '{}', status=200, mimetype='application/json' )\n",
    "\n",
    "if __name__ == '__main__':\n",
    "\n",
    "  app.run('0.0.0.0', debug=True)"
   ]
  },
  {
   "cell_type": "markdown",
   "id": "f2613499",
   "metadata": {
    "heading_collapsed": true,
    "hidden": true
   },
   "source": [
    "## 8.3 API Tester"
   ]
  },
  {
   "cell_type": "code",
   "execution_count": 1,
   "id": "db44273c",
   "metadata": {
    "ExecuteTime": {
     "end_time": "2022-07-06T18:17:42.889658Z",
     "start_time": "2022-07-06T18:17:42.367714Z"
    },
    "hidden": true
   },
   "outputs": [],
   "source": [
    "import requests\n",
    "import json\n",
    "import pandas as pd"
   ]
  },
  {
   "cell_type": "code",
   "execution_count": 9,
   "id": "b566d50d",
   "metadata": {
    "ExecuteTime": {
     "end_time": "2022-07-06T18:18:53.207772Z",
     "start_time": "2022-07-06T18:18:53.197972Z"
    },
    "hidden": true
   },
   "outputs": [],
   "source": [
    "#loading test dataset\n",
    "\n",
    "# y_validation = pd.read_csv( 'datasets/y_validation.csv', low_memory=False )\n",
    "# x_validation = pd.read_csv( 'datasets/x_validation.csv', low_memory=False )\n",
    "\n",
    "df_test = x_validation\n",
    "df_test['response'] = y_validation"
   ]
  },
  {
   "cell_type": "code",
   "execution_count": 10,
   "id": "0e4b4f87",
   "metadata": {
    "ExecuteTime": {
     "end_time": "2022-07-06T18:18:53.925278Z",
     "start_time": "2022-07-06T18:18:53.905513Z"
    },
    "hidden": true
   },
   "outputs": [],
   "source": [
    "df_test = df_test.sample(10)\n",
    "df_test = json.dumps(df_test.to_dict( orient='records'))"
   ]
  },
  {
   "cell_type": "code",
   "execution_count": 11,
   "id": "94d85cf7",
   "metadata": {
    "ExecuteTime": {
     "end_time": "2022-07-06T18:18:55.964734Z",
     "start_time": "2022-07-06T18:18:55.012367Z"
    },
    "hidden": true
   },
   "outputs": [
    {
     "name": "stdout",
     "output_type": "stream",
     "text": [
      "Status Code 200\n"
     ]
    }
   ],
   "source": [
    "#API Call\n",
    "\n",
    "#url = 'http://0.0.0.0:5000/predict'\n",
    "url = 'https://healthinsurance-alex.herokuapp.com/predict'\n",
    "header = {'Content-type': 'application/json'}\n",
    "\n",
    "r = requests.post(url, data=df_test, headers=header)\n",
    "print('Status Code {}'.format(r.status_code))"
   ]
  },
  {
   "cell_type": "code",
   "execution_count": 12,
   "id": "f5276e70",
   "metadata": {
    "ExecuteTime": {
     "end_time": "2022-07-06T18:18:56.916072Z",
     "start_time": "2022-07-06T18:18:56.886481Z"
    },
    "hidden": true
   },
   "outputs": [
    {
     "data": {
      "text/html": [
       "<div>\n",
       "<style scoped>\n",
       "    .dataframe tbody tr th:only-of-type {\n",
       "        vertical-align: middle;\n",
       "    }\n",
       "\n",
       "    .dataframe tbody tr th {\n",
       "        vertical-align: top;\n",
       "    }\n",
       "\n",
       "    .dataframe thead th {\n",
       "        text-align: right;\n",
       "    }\n",
       "</style>\n",
       "<table border=\"1\" class=\"dataframe\">\n",
       "  <thead>\n",
       "    <tr style=\"text-align: right;\">\n",
       "      <th></th>\n",
       "      <th>id</th>\n",
       "      <th>Gender</th>\n",
       "      <th>Age</th>\n",
       "      <th>Driving_License</th>\n",
       "      <th>Region_Code</th>\n",
       "      <th>Previously_Insured</th>\n",
       "      <th>Vehicle_Damage</th>\n",
       "      <th>Annual_Premium</th>\n",
       "      <th>Policy_Sales_Channel</th>\n",
       "      <th>Vintage</th>\n",
       "      <th>Vehicle_Age_below_1_year</th>\n",
       "      <th>Vehicle_Age_between_1_2years</th>\n",
       "      <th>Vehicle_Age_over_2years</th>\n",
       "      <th>response</th>\n",
       "      <th>score</th>\n",
       "    </tr>\n",
       "  </thead>\n",
       "  <tbody>\n",
       "    <tr>\n",
       "      <th>3</th>\n",
       "      <td>25964</td>\n",
       "      <td>None</td>\n",
       "      <td>-0.307456</td>\n",
       "      <td>1</td>\n",
       "      <td>None</td>\n",
       "      <td>0</td>\n",
       "      <td>0</td>\n",
       "      <td>-1.773541</td>\n",
       "      <td>None</td>\n",
       "      <td>-0.032579</td>\n",
       "      <td>1</td>\n",
       "      <td>0</td>\n",
       "      <td>0</td>\n",
       "      <td>0</td>\n",
       "      <td>0.027111</td>\n",
       "    </tr>\n",
       "    <tr>\n",
       "      <th>6</th>\n",
       "      <td>80730</td>\n",
       "      <td>None</td>\n",
       "      <td>-0.306036</td>\n",
       "      <td>1</td>\n",
       "      <td>None</td>\n",
       "      <td>0</td>\n",
       "      <td>0</td>\n",
       "      <td>-1.773531</td>\n",
       "      <td>None</td>\n",
       "      <td>-0.033345</td>\n",
       "      <td>1</td>\n",
       "      <td>0</td>\n",
       "      <td>0</td>\n",
       "      <td>0</td>\n",
       "      <td>0.027105</td>\n",
       "    </tr>\n",
       "    <tr>\n",
       "      <th>9</th>\n",
       "      <td>50326</td>\n",
       "      <td>None</td>\n",
       "      <td>-0.303195</td>\n",
       "      <td>1</td>\n",
       "      <td>None</td>\n",
       "      <td>0</td>\n",
       "      <td>0</td>\n",
       "      <td>-1.773564</td>\n",
       "      <td>None</td>\n",
       "      <td>-0.031321</td>\n",
       "      <td>0</td>\n",
       "      <td>1</td>\n",
       "      <td>0</td>\n",
       "      <td>0</td>\n",
       "      <td>0.027092</td>\n",
       "    </tr>\n",
       "    <tr>\n",
       "      <th>1</th>\n",
       "      <td>128277</td>\n",
       "      <td>None</td>\n",
       "      <td>-0.302249</td>\n",
       "      <td>1</td>\n",
       "      <td>None</td>\n",
       "      <td>0</td>\n",
       "      <td>0</td>\n",
       "      <td>-1.773514</td>\n",
       "      <td>None</td>\n",
       "      <td>-0.031788</td>\n",
       "      <td>0</td>\n",
       "      <td>1</td>\n",
       "      <td>0</td>\n",
       "      <td>0</td>\n",
       "      <td>0.027088</td>\n",
       "    </tr>\n",
       "    <tr>\n",
       "      <th>0</th>\n",
       "      <td>138577</td>\n",
       "      <td>None</td>\n",
       "      <td>-0.301538</td>\n",
       "      <td>1</td>\n",
       "      <td>None</td>\n",
       "      <td>0</td>\n",
       "      <td>0</td>\n",
       "      <td>-1.773563</td>\n",
       "      <td>None</td>\n",
       "      <td>-0.033692</td>\n",
       "      <td>0</td>\n",
       "      <td>1</td>\n",
       "      <td>0</td>\n",
       "      <td>0</td>\n",
       "      <td>0.027086</td>\n",
       "    </tr>\n",
       "    <tr>\n",
       "      <th>8</th>\n",
       "      <td>231033</td>\n",
       "      <td>None</td>\n",
       "      <td>-0.297988</td>\n",
       "      <td>1</td>\n",
       "      <td>None</td>\n",
       "      <td>0</td>\n",
       "      <td>0</td>\n",
       "      <td>-1.773522</td>\n",
       "      <td>None</td>\n",
       "      <td>-0.032064</td>\n",
       "      <td>0</td>\n",
       "      <td>1</td>\n",
       "      <td>0</td>\n",
       "      <td>0</td>\n",
       "      <td>0.027071</td>\n",
       "    </tr>\n",
       "    <tr>\n",
       "      <th>5</th>\n",
       "      <td>92664</td>\n",
       "      <td>None</td>\n",
       "      <td>-0.306509</td>\n",
       "      <td>1</td>\n",
       "      <td>None</td>\n",
       "      <td>1</td>\n",
       "      <td>0</td>\n",
       "      <td>-1.773565</td>\n",
       "      <td>None</td>\n",
       "      <td>-0.032471</td>\n",
       "      <td>1</td>\n",
       "      <td>0</td>\n",
       "      <td>0</td>\n",
       "      <td>0</td>\n",
       "      <td>0.000477</td>\n",
       "    </tr>\n",
       "    <tr>\n",
       "      <th>4</th>\n",
       "      <td>377774</td>\n",
       "      <td>None</td>\n",
       "      <td>-0.306509</td>\n",
       "      <td>1</td>\n",
       "      <td>None</td>\n",
       "      <td>1</td>\n",
       "      <td>0</td>\n",
       "      <td>-1.773496</td>\n",
       "      <td>None</td>\n",
       "      <td>-0.031369</td>\n",
       "      <td>1</td>\n",
       "      <td>0</td>\n",
       "      <td>0</td>\n",
       "      <td>0</td>\n",
       "      <td>0.000477</td>\n",
       "    </tr>\n",
       "    <tr>\n",
       "      <th>7</th>\n",
       "      <td>178062</td>\n",
       "      <td>None</td>\n",
       "      <td>-0.300592</td>\n",
       "      <td>1</td>\n",
       "      <td>None</td>\n",
       "      <td>1</td>\n",
       "      <td>0</td>\n",
       "      <td>-1.773502</td>\n",
       "      <td>None</td>\n",
       "      <td>-0.032255</td>\n",
       "      <td>0</td>\n",
       "      <td>1</td>\n",
       "      <td>0</td>\n",
       "      <td>0</td>\n",
       "      <td>0.000476</td>\n",
       "    </tr>\n",
       "    <tr>\n",
       "      <th>2</th>\n",
       "      <td>161442</td>\n",
       "      <td>None</td>\n",
       "      <td>-0.300355</td>\n",
       "      <td>1</td>\n",
       "      <td>None</td>\n",
       "      <td>1</td>\n",
       "      <td>0</td>\n",
       "      <td>-1.773559</td>\n",
       "      <td>None</td>\n",
       "      <td>-0.031142</td>\n",
       "      <td>0</td>\n",
       "      <td>1</td>\n",
       "      <td>0</td>\n",
       "      <td>0</td>\n",
       "      <td>0.000476</td>\n",
       "    </tr>\n",
       "  </tbody>\n",
       "</table>\n",
       "</div>"
      ],
      "text/plain": [
       "       id Gender       Age  Driving_License Region_Code  Previously_Insured  \\\n",
       "3   25964   None -0.307456                1        None                   0   \n",
       "6   80730   None -0.306036                1        None                   0   \n",
       "9   50326   None -0.303195                1        None                   0   \n",
       "1  128277   None -0.302249                1        None                   0   \n",
       "0  138577   None -0.301538                1        None                   0   \n",
       "8  231033   None -0.297988                1        None                   0   \n",
       "5   92664   None -0.306509                1        None                   1   \n",
       "4  377774   None -0.306509                1        None                   1   \n",
       "7  178062   None -0.300592                1        None                   1   \n",
       "2  161442   None -0.300355                1        None                   1   \n",
       "\n",
       "   Vehicle_Damage  Annual_Premium Policy_Sales_Channel   Vintage  \\\n",
       "3               0       -1.773541                 None -0.032579   \n",
       "6               0       -1.773531                 None -0.033345   \n",
       "9               0       -1.773564                 None -0.031321   \n",
       "1               0       -1.773514                 None -0.031788   \n",
       "0               0       -1.773563                 None -0.033692   \n",
       "8               0       -1.773522                 None -0.032064   \n",
       "5               0       -1.773565                 None -0.032471   \n",
       "4               0       -1.773496                 None -0.031369   \n",
       "7               0       -1.773502                 None -0.032255   \n",
       "2               0       -1.773559                 None -0.031142   \n",
       "\n",
       "   Vehicle_Age_below_1_year  Vehicle_Age_between_1_2years  \\\n",
       "3                         1                             0   \n",
       "6                         1                             0   \n",
       "9                         0                             1   \n",
       "1                         0                             1   \n",
       "0                         0                             1   \n",
       "8                         0                             1   \n",
       "5                         1                             0   \n",
       "4                         1                             0   \n",
       "7                         0                             1   \n",
       "2                         0                             1   \n",
       "\n",
       "   Vehicle_Age_over_2years  response     score  \n",
       "3                        0         0  0.027111  \n",
       "6                        0         0  0.027105  \n",
       "9                        0         0  0.027092  \n",
       "1                        0         0  0.027088  \n",
       "0                        0         0  0.027086  \n",
       "8                        0         0  0.027071  \n",
       "5                        0         0  0.000477  \n",
       "4                        0         0  0.000477  \n",
       "7                        0         0  0.000476  \n",
       "2                        0         0  0.000476  "
      ]
     },
     "execution_count": 12,
     "metadata": {},
     "output_type": "execute_result"
    }
   ],
   "source": [
    "dfn = pd.DataFrame(r.json(), columns=r.json()[0].keys())\n",
    "dfn.sort_values( 'score', ascending=False).head(20)"
   ]
  },
  {
   "cell_type": "markdown",
   "id": "b8cae236",
   "metadata": {
    "heading_collapsed": true
   },
   "source": [
    "# 9 Business Performance"
   ]
  },
  {
   "cell_type": "code",
   "execution_count": 10,
   "id": "4e6898ee",
   "metadata": {
    "ExecuteTime": {
     "end_time": "2022-07-12T12:33:13.552829Z",
     "start_time": "2022-07-12T12:33:13.511237Z"
    },
    "hidden": true
   },
   "outputs": [],
   "source": [
    "data = x_validation.copy()\n",
    "\n",
    "data['Response'] = y_validation.copy()\n",
    "data['Score'] = yhat_lr[:, 1].tolist()\n",
    "data = data.sort_values('Score', ascending=False)"
   ]
  },
  {
   "cell_type": "code",
   "execution_count": 11,
   "id": "8f3b80ea",
   "metadata": {
    "ExecuteTime": {
     "end_time": "2022-07-12T12:33:18.437560Z",
     "start_time": "2022-07-12T12:33:18.409088Z"
    },
    "hidden": true
   },
   "outputs": [
    {
     "data": {
      "text/html": [
       "<div>\n",
       "<style scoped>\n",
       "    .dataframe tbody tr th:only-of-type {\n",
       "        vertical-align: middle;\n",
       "    }\n",
       "\n",
       "    .dataframe tbody tr th {\n",
       "        vertical-align: top;\n",
       "    }\n",
       "\n",
       "    .dataframe thead th {\n",
       "        text-align: right;\n",
       "    }\n",
       "</style>\n",
       "<table border=\"1\" class=\"dataframe\">\n",
       "  <thead>\n",
       "    <tr style=\"text-align: right;\">\n",
       "      <th></th>\n",
       "      <th>id</th>\n",
       "      <th>Gender</th>\n",
       "      <th>Age</th>\n",
       "      <th>Driving_License</th>\n",
       "      <th>Region_Code</th>\n",
       "      <th>Previously_Insured</th>\n",
       "      <th>Vehicle_Damage</th>\n",
       "      <th>Annual_Premium</th>\n",
       "      <th>Policy_Sales_Channel</th>\n",
       "      <th>Vintage</th>\n",
       "      <th>Vehicle_Age_below_1_year</th>\n",
       "      <th>Vehicle_Age_between_1_2years</th>\n",
       "      <th>Vehicle_Age_over_2years</th>\n",
       "      <th>Response</th>\n",
       "      <th>Score</th>\n",
       "    </tr>\n",
       "  </thead>\n",
       "  <tbody>\n",
       "    <tr>\n",
       "      <th>132757</th>\n",
       "      <td>132758</td>\n",
       "      <td>0.10398</td>\n",
       "      <td>0.400000</td>\n",
       "      <td>1</td>\n",
       "      <td>0.187382</td>\n",
       "      <td>0</td>\n",
       "      <td>1</td>\n",
       "      <td>16.083764</td>\n",
       "      <td>0.003313</td>\n",
       "      <td>0.602076</td>\n",
       "      <td>0</td>\n",
       "      <td>1</td>\n",
       "      <td>0</td>\n",
       "      <td>0</td>\n",
       "      <td>0.352374</td>\n",
       "    </tr>\n",
       "    <tr>\n",
       "      <th>353916</th>\n",
       "      <td>353917</td>\n",
       "      <td>0.13860</td>\n",
       "      <td>0.015385</td>\n",
       "      <td>1</td>\n",
       "      <td>0.187382</td>\n",
       "      <td>0</td>\n",
       "      <td>1</td>\n",
       "      <td>3.499192</td>\n",
       "      <td>0.001269</td>\n",
       "      <td>0.681661</td>\n",
       "      <td>1</td>\n",
       "      <td>0</td>\n",
       "      <td>0</td>\n",
       "      <td>0</td>\n",
       "      <td>0.344821</td>\n",
       "    </tr>\n",
       "    <tr>\n",
       "      <th>247966</th>\n",
       "      <td>247967</td>\n",
       "      <td>0.13860</td>\n",
       "      <td>0.015385</td>\n",
       "      <td>1</td>\n",
       "      <td>0.187382</td>\n",
       "      <td>0</td>\n",
       "      <td>1</td>\n",
       "      <td>2.695599</td>\n",
       "      <td>0.001584</td>\n",
       "      <td>0.851211</td>\n",
       "      <td>1</td>\n",
       "      <td>0</td>\n",
       "      <td>0</td>\n",
       "      <td>0</td>\n",
       "      <td>0.343258</td>\n",
       "    </tr>\n",
       "    <tr>\n",
       "      <th>268332</th>\n",
       "      <td>268333</td>\n",
       "      <td>0.13860</td>\n",
       "      <td>0.400000</td>\n",
       "      <td>1</td>\n",
       "      <td>0.187382</td>\n",
       "      <td>0</td>\n",
       "      <td>1</td>\n",
       "      <td>29.477946</td>\n",
       "      <td>0.194344</td>\n",
       "      <td>0.169550</td>\n",
       "      <td>0</td>\n",
       "      <td>1</td>\n",
       "      <td>0</td>\n",
       "      <td>0</td>\n",
       "      <td>0.343153</td>\n",
       "    </tr>\n",
       "    <tr>\n",
       "      <th>6747</th>\n",
       "      <td>6748</td>\n",
       "      <td>0.10398</td>\n",
       "      <td>0.107692</td>\n",
       "      <td>1</td>\n",
       "      <td>0.187382</td>\n",
       "      <td>0</td>\n",
       "      <td>1</td>\n",
       "      <td>3.925342</td>\n",
       "      <td>0.001994</td>\n",
       "      <td>0.114187</td>\n",
       "      <td>1</td>\n",
       "      <td>0</td>\n",
       "      <td>0</td>\n",
       "      <td>1</td>\n",
       "      <td>0.342237</td>\n",
       "    </tr>\n",
       "  </tbody>\n",
       "</table>\n",
       "</div>"
      ],
      "text/plain": [
       "            id   Gender       Age  Driving_License  Region_Code  \\\n",
       "132757  132758  0.10398  0.400000                1     0.187382   \n",
       "353916  353917  0.13860  0.015385                1     0.187382   \n",
       "247966  247967  0.13860  0.015385                1     0.187382   \n",
       "268332  268333  0.13860  0.400000                1     0.187382   \n",
       "6747      6748  0.10398  0.107692                1     0.187382   \n",
       "\n",
       "        Previously_Insured  Vehicle_Damage  Annual_Premium  \\\n",
       "132757                   0               1       16.083764   \n",
       "353916                   0               1        3.499192   \n",
       "247966                   0               1        2.695599   \n",
       "268332                   0               1       29.477946   \n",
       "6747                     0               1        3.925342   \n",
       "\n",
       "        Policy_Sales_Channel   Vintage  Vehicle_Age_below_1_year  \\\n",
       "132757              0.003313  0.602076                         0   \n",
       "353916              0.001269  0.681661                         1   \n",
       "247966              0.001584  0.851211                         1   \n",
       "268332              0.194344  0.169550                         0   \n",
       "6747                0.001994  0.114187                         1   \n",
       "\n",
       "        Vehicle_Age_between_1_2years  Vehicle_Age_over_2years  Response  \\\n",
       "132757                             1                        0         0   \n",
       "353916                             0                        0         0   \n",
       "247966                             0                        0         0   \n",
       "268332                             1                        0         0   \n",
       "6747                               0                        0         1   \n",
       "\n",
       "           Score  \n",
       "132757  0.352374  \n",
       "353916  0.344821  \n",
       "247966  0.343258  \n",
       "268332  0.343153  \n",
       "6747    0.342237  "
      ]
     },
     "execution_count": 11,
     "metadata": {},
     "output_type": "execute_result"
    }
   ],
   "source": [
    "data.head()"
   ]
  },
  {
   "cell_type": "markdown",
   "id": "da10cc27",
   "metadata": {
    "heading_collapsed": true
   },
   "source": [
    "# Utilizando 26% dos dados do teste, que representam 20 mil ligações da equipe de vendas, o modelo conseguiria identificar 61% das pessoas interessadas em adquirir o seguro."
   ]
  },
  {
   "cell_type": "code",
   "execution_count": 121,
   "id": "81a986ce",
   "metadata": {
    "ExecuteTime": {
     "end_time": "2022-07-11T22:18:06.344563Z",
     "start_time": "2022-07-11T22:18:06.313644Z"
    },
    "hidden": true
   },
   "outputs": [
    {
     "name": "stdout",
     "output_type": "stream",
     "text": [
      " Percentual usado do dataset 26.0 %\n",
      " De todos os verdadeiros foram preditos 61.0 %\n"
     ]
    }
   ],
   "source": [
    "percent_of_dataset = 20000 / len(data)\n",
    "recall_at_20000 = recall_at_k(data, k = 20000)\n",
    "\n",
    "print(f' Percentual usado do dataset {round(percent_of_dataset, 2)*100} %')\n",
    "print(f' De todos os verdadeiros foram preditos {round(recall_at_20000, 4)*100} %')"
   ]
  },
  {
   "cell_type": "code",
   "execution_count": 114,
   "id": "d9e39d1c",
   "metadata": {
    "ExecuteTime": {
     "end_time": "2022-07-11T22:10:24.437779Z",
     "start_time": "2022-07-11T22:10:23.952805Z"
    },
    "hidden": true
   },
   "outputs": [
    {
     "data": {
      "image/png": "[encoded data removed]",
      "text/plain": [
       "<Figure size 864x504 with 1 Axes>"
      ]
     },
     "metadata": {
      "needs_background": "light"
     },
     "output_type": "display_data"
    }
   ],
   "source": [
    "skplt.metrics.plot_cumulative_gain(y_validation, yhat_lr, figsize=(12,7))\n",
    "plt.axvline(0.26239, 0, 1, color='green', ls='--', lw=3)\n",
    "plt.show(); "
   ]
  },
  {
   "cell_type": "markdown",
   "id": "f896e831",
   "metadata": {
    "heading_collapsed": true
   },
   "source": [
    "# Utilizando aproximadamente 40% dos dados de teste, que representam 30 mil ligações da equipe de vendas, o modelo conseguiria identificar mais de 85% das pessoas interessadas em adquirir o seguro."
   ]
  },
  {
   "cell_type": "code",
   "execution_count": 123,
   "id": "c114765e",
   "metadata": {
    "ExecuteTime": {
     "end_time": "2022-07-11T22:28:39.236127Z",
     "start_time": "2022-07-11T22:28:39.207446Z"
    },
    "hidden": true
   },
   "outputs": [
    {
     "name": "stdout",
     "output_type": "stream",
     "text": [
      " Percentual usado do dataset 39.0 %\n",
      " De todos os verdadeiros foram preditos 85.58 %\n"
     ]
    }
   ],
   "source": [
    "percent_of_dataset = 30000 / len(data)\n",
    "recall_at_30000 = recall_at_k(data, k = 30000)\n",
    "\n",
    "print(f' Percentual usado do dataset {round(percent_of_dataset, 2)*100} %')\n",
    "print(f' De todos os verdadeiros foram preditos {round(recall_at_30000, 4)*100} %')"
   ]
  },
  {
   "cell_type": "code",
   "execution_count": 125,
   "id": "19d1bb54",
   "metadata": {
    "ExecuteTime": {
     "end_time": "2022-07-11T22:28:59.020964Z",
     "start_time": "2022-07-11T22:28:58.545183Z"
    },
    "hidden": true
   },
   "outputs": [
    {
     "data": {
      "image/png": "[encoded data removed]",
      "text/plain": [
       "<Figure size 864x504 with 1 Axes>"
      ]
     },
     "metadata": {
      "needs_background": "light"
     },
     "output_type": "display_data"
    }
   ],
   "source": [
    "skplt.metrics.plot_cumulative_gain(y_validation, yhat_lr, figsize=(12,7))\n",
    "plt.axvline(0.393587, 0, 1, color='green', ls='--', lw=3)\n",
    "plt.show(); "
   ]
  },
  {
   "cell_type": "markdown",
   "id": "1921ba8c",
   "metadata": {
    "heading_collapsed": true
   },
   "source": [
    "# Ao realizar 20 mil ligações, o modelo proposto é mais do que 2 vezes melhor do que a escolha aleatória, mantendo a performance 2 vezes melhor para 30 mil ligações."
   ]
  },
  {
   "cell_type": "code",
   "execution_count": 127,
   "id": "88f89919",
   "metadata": {
    "ExecuteTime": {
     "end_time": "2022-07-11T22:44:28.349186Z",
     "start_time": "2022-07-11T22:44:27.712652Z"
    },
    "hidden": true
   },
   "outputs": [
    {
     "data": {
      "image/png": "[encoded data removed]",
      "text/plain": [
       "<Figure size 864x504 with 1 Axes>"
      ]
     },
     "metadata": {
      "needs_background": "light"
     },
     "output_type": "display_data"
    }
   ],
   "source": [
    "skplt.metrics.plot_lift_curve(y_validation, yhat_lr, figsize=(12,7))\n",
    "plt.axvline(0.393587, 0, 1, color='yellow', ls='--', lw=3)\n",
    "plt.axvline(0.26239, 0, 1, color='green', ls='--', lw=3);"
   ]
  },
  {
   "cell_type": "markdown",
   "id": "aad94475",
   "metadata": {
    "heading_collapsed": true
   },
   "source": [
    "# O modelo de média (Baseline) prevê 26% de todas as pessoas interessadas em seguros fazendo 20 mil ligações, enquanto nosso modelo prevê 61%. Se cada seguro for 1000 dólares  isso representa uma diferença de 29,6 milhões de dólares em 20 mil chamadas."
   ]
  },
  {
   "cell_type": "code",
   "execution_count": 20,
   "id": "242a6fb8",
   "metadata": {
    "ExecuteTime": {
     "end_time": "2022-07-12T12:41:17.557213Z",
     "start_time": "2022-07-12T12:41:17.548072Z"
    },
    "hidden": true
   },
   "outputs": [
    {
     "name": "stdout",
     "output_type": "stream",
     "text": [
      "Valor alcançado realizando 20 mil ligações aleatóriamente: 19817720.0\n",
      "Valor alcançado realizando 20 mil ligações usando o modelo proposto: 46495420.0\n",
      "\n",
      "Diferença entre os dois modelos: 26677700.0\n",
      "\n",
      "O modelo proposto proporciona um ganho superior ao dobro do modelo aleatório\n"
     ]
    }
   ],
   "source": [
    "random_choice = (0.26) * len(data)\n",
    "model         = (0.61) * len(data)\n",
    "\n",
    "x = random_choice * 1000\n",
    "y = model * 1000\n",
    "\n",
    "print(f'Valor alcançado realizando 20 mil ligações aleatóriamente: {x}')\n",
    "print(f'Valor alcançado realizando 20 mil ligações usando o modelo proposto: {y}')\n",
    "print()\n",
    "print(f'Diferença entre os dois modelos: {y-x}')\n",
    "print()\n",
    "print(f'O modelo proposto proporciona um ganho superior ao dobro do modelo aleatório')"
   ]
  },
  {
   "cell_type": "markdown",
   "id": "2a337370",
   "metadata": {
    "heading_collapsed": true
   },
   "source": [
    "# Com 30 mil ligações, nosso modelo preveria 85% de todas as pessoas interessadas, e a diferença subiria para 35,5 milhões de dólares."
   ]
  },
  {
   "cell_type": "code",
   "execution_count": 34,
   "id": "d22ecefc",
   "metadata": {
    "ExecuteTime": {
     "end_time": "2022-07-12T13:05:10.039247Z",
     "start_time": "2022-07-12T13:05:10.028152Z"
    },
    "hidden": true
   },
   "outputs": [
    {
     "name": "stdout",
     "output_type": "stream",
     "text": [
      "Valor alcançado realizando 30 mil ligações aleatóriamente: 29726580.0\n",
      "Valor alcançado realizando 30 mil ligações usando o modelo proposto: 65230787.6\n",
      "\n",
      "Diferença entre os dois modelos: 35504207.6\n",
      "\n",
      "O modelo proposto mantém um ganho superior ao dobro do modelo aleatório\n"
     ]
    }
   ],
   "source": [
    "random_choice = (0.39) * len(data)\n",
    "model         = (0.8558) * len(data)\n",
    "\n",
    "x = random_choice * 1000\n",
    "y = model * 1000\n",
    "\n",
    "print(f'Valor alcançado realizando 30 mil ligações aleatóriamente: {x}')\n",
    "print(f'Valor alcançado realizando 30 mil ligações usando o modelo proposto: {y}')\n",
    "print()\n",
    "print(f'Diferença entre os dois modelos: {y-x}')\n",
    "print()\n",
    "print(f'O modelo proposto mantém um ganho superior ao dobro do modelo aleatório')"
   ]
  }
 ],
 "metadata": {
  "kernelspec": {
   "display_name": "Python 3 (ipykernel)",
   "language": "python",
   "name": "python3"
  },
  "language_info": {
   "codemirror_mode": {
    "name": "ipython",
    "version": 3
   },
   "file_extension": ".py",
   "mimetype": "text/x-python",
   "name": "python",
   "nbconvert_exporter": "python",
   "pygments_lexer": "ipython3",
   "version": "3.8.10"
  },
  "varInspector": {
   "cols": {
    "lenName": 16,
    "lenType": 16,
    "lenVar": 40
   },
   "kernels_config": {
    "python": {
     "delete_cmd_postfix": "",
     "delete_cmd_prefix": "del ",
     "library": "var_list.py",
     "varRefreshCmd": "print(var_dic_list())"
    },
    "r": {
     "delete_cmd_postfix": ") ",
     "delete_cmd_prefix": "rm(",
     "library": "var_list.r",
     "varRefreshCmd": "cat(var_dic_list()) "
    }
   },
   "types_to_exclude": [
    "module",
    "function",
    "builtin_function_or_method",
    "instance",
    "_Feature"
   ],
   "window_display": false
  }
 },
 "nbformat": 4,
 "nbformat_minor": 5
}
