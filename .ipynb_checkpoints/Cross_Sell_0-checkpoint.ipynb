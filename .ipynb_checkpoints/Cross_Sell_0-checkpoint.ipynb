{
 "cells": [
  {
   "cell_type": "markdown",
   "id": "cf25b6ea",
   "metadata": {},
   "source": [
    "# 0.0 Imports"
   ]
  },
  {
   "cell_type": "code",
   "execution_count": 1,
   "id": "321a9a22",
   "metadata": {
    "ExecuteTime": {
     "end_time": "2022-06-28T18:15:15.935173Z",
     "start_time": "2022-06-28T18:15:12.643094Z"
    }
   },
   "outputs": [],
   "source": [
    "import pandas as pd\n",
    "import matplotlib.pyplot as plt\n",
    "import seaborn as sns\n",
    "import pickle\n",
    "import numpy as np\n",
    "import scikitplot as skplt\n",
    "from flask   import Flask, request, Response\n",
    "from sklearn import preprocessing as pp\n",
    "from sklearn import model_selection as ms\n",
    "from sklearn import ensemble as en\n",
    "from sklearn import neighbors as nh\n",
    "from sklearn import linear_model as lm"
   ]
  },
  {
   "cell_type": "markdown",
   "id": "51284716",
   "metadata": {},
   "source": [
    "## 0.1  Loading Data"
   ]
  },
  {
   "cell_type": "code",
   "execution_count": 2,
   "id": "77b3f6c6",
   "metadata": {
    "ExecuteTime": {
     "end_time": "2022-06-14T13:24:53.093965Z",
     "start_time": "2022-06-14T13:24:52.173222Z"
    }
   },
   "outputs": [],
   "source": [
    "df = pd.read_csv( 'datasets/train.csv', low_memory=False )"
   ]
  },
  {
   "cell_type": "code",
   "execution_count": 3,
   "id": "3e3043b5",
   "metadata": {
    "ExecuteTime": {
     "end_time": "2022-06-14T13:24:53.133813Z",
     "start_time": "2022-06-14T13:24:53.097775Z"
    }
   },
   "outputs": [
    {
     "data": {
      "text/html": [
       "<div>\n",
       "<style scoped>\n",
       "    .dataframe tbody tr th:only-of-type {\n",
       "        vertical-align: middle;\n",
       "    }\n",
       "\n",
       "    .dataframe tbody tr th {\n",
       "        vertical-align: top;\n",
       "    }\n",
       "\n",
       "    .dataframe thead th {\n",
       "        text-align: right;\n",
       "    }\n",
       "</style>\n",
       "<table border=\"1\" class=\"dataframe\">\n",
       "  <thead>\n",
       "    <tr style=\"text-align: right;\">\n",
       "      <th></th>\n",
       "      <th>id</th>\n",
       "      <th>Gender</th>\n",
       "      <th>Age</th>\n",
       "      <th>Driving_License</th>\n",
       "      <th>Region_Code</th>\n",
       "      <th>Previously_Insured</th>\n",
       "      <th>Vehicle_Age</th>\n",
       "      <th>Vehicle_Damage</th>\n",
       "      <th>Annual_Premium</th>\n",
       "      <th>Policy_Sales_Channel</th>\n",
       "      <th>Vintage</th>\n",
       "      <th>Response</th>\n",
       "    </tr>\n",
       "  </thead>\n",
       "  <tbody>\n",
       "    <tr>\n",
       "      <th>0</th>\n",
       "      <td>1</td>\n",
       "      <td>Male</td>\n",
       "      <td>44</td>\n",
       "      <td>1</td>\n",
       "      <td>28.0</td>\n",
       "      <td>0</td>\n",
       "      <td>&gt; 2 Years</td>\n",
       "      <td>Yes</td>\n",
       "      <td>40454.0</td>\n",
       "      <td>26.0</td>\n",
       "      <td>217</td>\n",
       "      <td>1</td>\n",
       "    </tr>\n",
       "    <tr>\n",
       "      <th>1</th>\n",
       "      <td>2</td>\n",
       "      <td>Male</td>\n",
       "      <td>76</td>\n",
       "      <td>1</td>\n",
       "      <td>3.0</td>\n",
       "      <td>0</td>\n",
       "      <td>1-2 Year</td>\n",
       "      <td>No</td>\n",
       "      <td>33536.0</td>\n",
       "      <td>26.0</td>\n",
       "      <td>183</td>\n",
       "      <td>0</td>\n",
       "    </tr>\n",
       "    <tr>\n",
       "      <th>2</th>\n",
       "      <td>3</td>\n",
       "      <td>Male</td>\n",
       "      <td>47</td>\n",
       "      <td>1</td>\n",
       "      <td>28.0</td>\n",
       "      <td>0</td>\n",
       "      <td>&gt; 2 Years</td>\n",
       "      <td>Yes</td>\n",
       "      <td>38294.0</td>\n",
       "      <td>26.0</td>\n",
       "      <td>27</td>\n",
       "      <td>1</td>\n",
       "    </tr>\n",
       "    <tr>\n",
       "      <th>3</th>\n",
       "      <td>4</td>\n",
       "      <td>Male</td>\n",
       "      <td>21</td>\n",
       "      <td>1</td>\n",
       "      <td>11.0</td>\n",
       "      <td>1</td>\n",
       "      <td>&lt; 1 Year</td>\n",
       "      <td>No</td>\n",
       "      <td>28619.0</td>\n",
       "      <td>152.0</td>\n",
       "      <td>203</td>\n",
       "      <td>0</td>\n",
       "    </tr>\n",
       "    <tr>\n",
       "      <th>4</th>\n",
       "      <td>5</td>\n",
       "      <td>Female</td>\n",
       "      <td>29</td>\n",
       "      <td>1</td>\n",
       "      <td>41.0</td>\n",
       "      <td>1</td>\n",
       "      <td>&lt; 1 Year</td>\n",
       "      <td>No</td>\n",
       "      <td>27496.0</td>\n",
       "      <td>152.0</td>\n",
       "      <td>39</td>\n",
       "      <td>0</td>\n",
       "    </tr>\n",
       "  </tbody>\n",
       "</table>\n",
       "</div>"
      ],
      "text/plain": [
       "   id  Gender  Age  Driving_License  Region_Code  Previously_Insured  \\\n",
       "0   1    Male   44                1         28.0                   0   \n",
       "1   2    Male   76                1          3.0                   0   \n",
       "2   3    Male   47                1         28.0                   0   \n",
       "3   4    Male   21                1         11.0                   1   \n",
       "4   5  Female   29                1         41.0                   1   \n",
       "\n",
       "  Vehicle_Age Vehicle_Damage  Annual_Premium  Policy_Sales_Channel  Vintage  \\\n",
       "0   > 2 Years            Yes         40454.0                  26.0      217   \n",
       "1    1-2 Year             No         33536.0                  26.0      183   \n",
       "2   > 2 Years            Yes         38294.0                  26.0       27   \n",
       "3    < 1 Year             No         28619.0                 152.0      203   \n",
       "4    < 1 Year             No         27496.0                 152.0       39   \n",
       "\n",
       "   Response  \n",
       "0         1  \n",
       "1         0  \n",
       "2         1  \n",
       "3         0  \n",
       "4         0  "
      ]
     },
     "execution_count": 3,
     "metadata": {},
     "output_type": "execute_result"
    }
   ],
   "source": [
    "df.head()"
   ]
  },
  {
   "cell_type": "markdown",
   "id": "6466147f",
   "metadata": {},
   "source": [
    "# 1.0 Descrição dos Dados"
   ]
  },
  {
   "cell_type": "markdown",
   "id": "6ea3c67a",
   "metadata": {},
   "source": [
    "## 1.1 Data Dimension"
   ]
  },
  {
   "cell_type": "code",
   "execution_count": 4,
   "id": "6f62dbd7",
   "metadata": {
    "ExecuteTime": {
     "end_time": "2022-06-14T13:24:53.148107Z",
     "start_time": "2022-06-14T13:24:53.140626Z"
    }
   },
   "outputs": [
    {
     "name": "stdout",
     "output_type": "stream",
     "text": [
      "Number of Rows 381109\n",
      "Number of Cols 12\n"
     ]
    }
   ],
   "source": [
    "print(f'Number of Rows {df.shape[0]}')\n",
    "print(f'Number of Cols {df.shape[1]}')"
   ]
  },
  {
   "cell_type": "markdown",
   "id": "e459a45a",
   "metadata": {},
   "source": [
    "## 1.2 Data Types"
   ]
  },
  {
   "cell_type": "code",
   "execution_count": 5,
   "id": "97c04eb4",
   "metadata": {
    "ExecuteTime": {
     "end_time": "2022-06-14T13:24:53.162195Z",
     "start_time": "2022-06-14T13:24:53.151871Z"
    }
   },
   "outputs": [
    {
     "data": {
      "text/plain": [
       "id                        int64\n",
       "Gender                   object\n",
       "Age                       int64\n",
       "Driving_License           int64\n",
       "Region_Code             float64\n",
       "Previously_Insured        int64\n",
       "Vehicle_Age              object\n",
       "Vehicle_Damage           object\n",
       "Annual_Premium          float64\n",
       "Policy_Sales_Channel    float64\n",
       "Vintage                   int64\n",
       "Response                  int64\n",
       "dtype: object"
      ]
     },
     "execution_count": 5,
     "metadata": {},
     "output_type": "execute_result"
    }
   ],
   "source": [
    "df.dtypes"
   ]
  },
  {
   "cell_type": "markdown",
   "id": "a6c18d0d",
   "metadata": {},
   "source": [
    "## 1.3 Check NA"
   ]
  },
  {
   "cell_type": "code",
   "execution_count": 6,
   "id": "87f63b71",
   "metadata": {
    "ExecuteTime": {
     "end_time": "2022-06-14T13:24:53.441571Z",
     "start_time": "2022-06-14T13:24:53.165153Z"
    }
   },
   "outputs": [
    {
     "data": {
      "text/plain": [
       "id                      0\n",
       "Gender                  0\n",
       "Age                     0\n",
       "Driving_License         0\n",
       "Region_Code             0\n",
       "Previously_Insured      0\n",
       "Vehicle_Age             0\n",
       "Vehicle_Damage          0\n",
       "Annual_Premium          0\n",
       "Policy_Sales_Channel    0\n",
       "Vintage                 0\n",
       "Response                0\n",
       "dtype: int64"
      ]
     },
     "execution_count": 6,
     "metadata": {},
     "output_type": "execute_result"
    }
   ],
   "source": [
    "df.isna().sum()"
   ]
  },
  {
   "cell_type": "markdown",
   "id": "3fa88455",
   "metadata": {},
   "source": [
    "## 1.4 Variáveis"
   ]
  },
  {
   "cell_type": "markdown",
   "id": "161b454b",
   "metadata": {
    "ExecuteTime": {
     "end_time": "2022-06-10T18:50:12.103461Z",
     "start_time": "2022-06-10T18:50:12.088133Z"
    }
   },
   "source": [
    "- id : ID exclusivo para o cliente\n",
    "- Gender: Gênero do cliente\n",
    "- Age: Idade do cliente\n",
    "- Driving_License: \n",
    "            0 : O cliente não tem DL, \n",
    "            1 : O cliente já tem DL\n",
    "- Region_Code: Código único para a região do cliente\n",
    "- Previously_Insured: \n",
    "            1 : Cliente já possui Seguro de Veículo, \n",
    "            0 : Cliente não tem Seguro de Veículo\n",
    "- Vehicle_Age: Idade do Veículo\n",
    "- Vehicle_Damage: \n",
    "            1 : O cliente teve seu veículo danificado no passado. \n",
    "            0 : O cliente não teve seu veículo danificado no passado.\n",
    "- Annual_Premium: O valor que o cliente precisa pagar como prêmio no ano\n",
    "- PolicySalesChannel: Código anonimizado para o canal de divulgação ao cliente, por exemplo, por correio, por telefone, pessoalmente, etc.\n",
    "- Vintage: Número de dias, o cliente foi associado à empresa\n",
    "- Response: \n",
    "            1 : O cliente está interessado, \n",
    "            0 : O cliente não está interessado"
   ]
  },
  {
   "cell_type": "markdown",
   "id": "05da1ad7",
   "metadata": {},
   "source": [
    "## 1.5 Descriptive Statistical"
   ]
  },
  {
   "cell_type": "code",
   "execution_count": 7,
   "id": "16c79eb9",
   "metadata": {
    "ExecuteTime": {
     "end_time": "2022-06-14T13:24:53.453333Z",
     "start_time": "2022-06-14T13:24:53.445028Z"
    }
   },
   "outputs": [],
   "source": [
    "num_attributes = df.select_dtypes( include = ['int64', 'float64'])\n",
    "cat_attributes = df.select_dtypes( include = ['object'])"
   ]
  },
  {
   "cell_type": "markdown",
   "id": "3c4eb9b4",
   "metadata": {
    "ExecuteTime": {
     "end_time": "2022-06-10T19:31:41.321416Z",
     "start_time": "2022-06-10T19:31:41.316546Z"
    }
   },
   "source": [
    "### 1.5.1 Numerical Attributes"
   ]
  },
  {
   "cell_type": "code",
   "execution_count": 8,
   "id": "1838890e",
   "metadata": {
    "ExecuteTime": {
     "end_time": "2022-06-14T13:24:54.710098Z",
     "start_time": "2022-06-14T13:24:53.456744Z"
    }
   },
   "outputs": [
    {
     "data": {
      "text/html": [
       "<div>\n",
       "<style scoped>\n",
       "    .dataframe tbody tr th:only-of-type {\n",
       "        vertical-align: middle;\n",
       "    }\n",
       "\n",
       "    .dataframe tbody tr th {\n",
       "        vertical-align: top;\n",
       "    }\n",
       "\n",
       "    .dataframe thead th {\n",
       "        text-align: right;\n",
       "    }\n",
       "</style>\n",
       "<table border=\"1\" class=\"dataframe\">\n",
       "  <thead>\n",
       "    <tr style=\"text-align: right;\">\n",
       "      <th></th>\n",
       "      <th>attributes</th>\n",
       "      <th>min</th>\n",
       "      <th>max</th>\n",
       "      <th>range</th>\n",
       "      <th>mean</th>\n",
       "      <th>median</th>\n",
       "      <th>std</th>\n",
       "      <th>skew</th>\n",
       "      <th>kurtosis</th>\n",
       "    </tr>\n",
       "  </thead>\n",
       "  <tbody>\n",
       "    <tr>\n",
       "      <th>0</th>\n",
       "      <td>id</td>\n",
       "      <td>1.0</td>\n",
       "      <td>381109.0</td>\n",
       "      <td>381108.0</td>\n",
       "      <td>190555.000000</td>\n",
       "      <td>190555.0</td>\n",
       "      <td>110016.691870</td>\n",
       "      <td>9.443274e-16</td>\n",
       "      <td>-1.200000</td>\n",
       "    </tr>\n",
       "    <tr>\n",
       "      <th>1</th>\n",
       "      <td>Age</td>\n",
       "      <td>20.0</td>\n",
       "      <td>85.0</td>\n",
       "      <td>65.0</td>\n",
       "      <td>38.822584</td>\n",
       "      <td>36.0</td>\n",
       "      <td>15.511591</td>\n",
       "      <td>6.725390e-01</td>\n",
       "      <td>-0.565655</td>\n",
       "    </tr>\n",
       "    <tr>\n",
       "      <th>2</th>\n",
       "      <td>Driving_License</td>\n",
       "      <td>0.0</td>\n",
       "      <td>1.0</td>\n",
       "      <td>1.0</td>\n",
       "      <td>0.997869</td>\n",
       "      <td>1.0</td>\n",
       "      <td>0.046109</td>\n",
       "      <td>-2.159518e+01</td>\n",
       "      <td>464.354302</td>\n",
       "    </tr>\n",
       "    <tr>\n",
       "      <th>3</th>\n",
       "      <td>Region_Code</td>\n",
       "      <td>0.0</td>\n",
       "      <td>52.0</td>\n",
       "      <td>52.0</td>\n",
       "      <td>26.388807</td>\n",
       "      <td>28.0</td>\n",
       "      <td>13.229871</td>\n",
       "      <td>-1.152664e-01</td>\n",
       "      <td>-0.867857</td>\n",
       "    </tr>\n",
       "    <tr>\n",
       "      <th>4</th>\n",
       "      <td>Previously_Insured</td>\n",
       "      <td>0.0</td>\n",
       "      <td>1.0</td>\n",
       "      <td>1.0</td>\n",
       "      <td>0.458210</td>\n",
       "      <td>0.0</td>\n",
       "      <td>0.498251</td>\n",
       "      <td>1.677471e-01</td>\n",
       "      <td>-1.971871</td>\n",
       "    </tr>\n",
       "    <tr>\n",
       "      <th>5</th>\n",
       "      <td>Annual_Premium</td>\n",
       "      <td>2630.0</td>\n",
       "      <td>540165.0</td>\n",
       "      <td>537535.0</td>\n",
       "      <td>30564.389581</td>\n",
       "      <td>31669.0</td>\n",
       "      <td>17213.132474</td>\n",
       "      <td>1.766087e+00</td>\n",
       "      <td>34.004569</td>\n",
       "    </tr>\n",
       "    <tr>\n",
       "      <th>6</th>\n",
       "      <td>Policy_Sales_Channel</td>\n",
       "      <td>1.0</td>\n",
       "      <td>163.0</td>\n",
       "      <td>162.0</td>\n",
       "      <td>112.034295</td>\n",
       "      <td>133.0</td>\n",
       "      <td>54.203924</td>\n",
       "      <td>-9.000081e-01</td>\n",
       "      <td>-0.970810</td>\n",
       "    </tr>\n",
       "    <tr>\n",
       "      <th>7</th>\n",
       "      <td>Vintage</td>\n",
       "      <td>10.0</td>\n",
       "      <td>299.0</td>\n",
       "      <td>289.0</td>\n",
       "      <td>154.347397</td>\n",
       "      <td>154.0</td>\n",
       "      <td>83.671194</td>\n",
       "      <td>3.029517e-03</td>\n",
       "      <td>-1.200688</td>\n",
       "    </tr>\n",
       "    <tr>\n",
       "      <th>8</th>\n",
       "      <td>Response</td>\n",
       "      <td>0.0</td>\n",
       "      <td>1.0</td>\n",
       "      <td>1.0</td>\n",
       "      <td>0.122563</td>\n",
       "      <td>0.0</td>\n",
       "      <td>0.327935</td>\n",
       "      <td>2.301906e+00</td>\n",
       "      <td>3.298788</td>\n",
       "    </tr>\n",
       "  </tbody>\n",
       "</table>\n",
       "</div>"
      ],
      "text/plain": [
       "             attributes     min       max     range           mean    median  \\\n",
       "0                    id     1.0  381109.0  381108.0  190555.000000  190555.0   \n",
       "1                   Age    20.0      85.0      65.0      38.822584      36.0   \n",
       "2       Driving_License     0.0       1.0       1.0       0.997869       1.0   \n",
       "3           Region_Code     0.0      52.0      52.0      26.388807      28.0   \n",
       "4    Previously_Insured     0.0       1.0       1.0       0.458210       0.0   \n",
       "5        Annual_Premium  2630.0  540165.0  537535.0   30564.389581   31669.0   \n",
       "6  Policy_Sales_Channel     1.0     163.0     162.0     112.034295     133.0   \n",
       "7               Vintage    10.0     299.0     289.0     154.347397     154.0   \n",
       "8              Response     0.0       1.0       1.0       0.122563       0.0   \n",
       "\n",
       "             std          skew    kurtosis  \n",
       "0  110016.691870  9.443274e-16   -1.200000  \n",
       "1      15.511591  6.725390e-01   -0.565655  \n",
       "2       0.046109 -2.159518e+01  464.354302  \n",
       "3      13.229871 -1.152664e-01   -0.867857  \n",
       "4       0.498251  1.677471e-01   -1.971871  \n",
       "5   17213.132474  1.766087e+00   34.004569  \n",
       "6      54.203924 -9.000081e-01   -0.970810  \n",
       "7      83.671194  3.029517e-03   -1.200688  \n",
       "8       0.327935  2.301906e+00    3.298788  "
      ]
     },
     "execution_count": 8,
     "metadata": {},
     "output_type": "execute_result"
    }
   ],
   "source": [
    "\n",
    "# Central tendency - mean, median\n",
    "ct1 = pd.DataFrame( num_attributes.apply( np.mean )).T\n",
    "ct2 = pd.DataFrame( num_attributes.apply( np.median )).T\n",
    "\n",
    "# dispersion - std, min, max, range, skew, kurtosis\n",
    "d1 = pd.DataFrame( num_attributes.apply( np.std )).T\n",
    "d2 = pd.DataFrame( num_attributes.apply( min )).T\n",
    "d3 = pd.DataFrame( num_attributes.apply( max )).T\n",
    "d4 = pd.DataFrame( num_attributes.apply( lambda x: x.max() - x.min() )).T\n",
    "d5 = pd.DataFrame( num_attributes.apply( lambda x: x.skew() )).T\n",
    "d6 = pd.DataFrame( num_attributes.apply( lambda x: x.kurtosis() )).T\n",
    "\n",
    "#concat\n",
    "m = pd.concat( [d2, d3, d4, ct1, ct2, d1, d5, d6] ).T.reset_index()\n",
    "m.columns = ['attributes', 'min', 'max', 'range', 'mean', 'median', 'std', 'skew', 'kurtosis'] \n",
    "m"
   ]
  },
  {
   "cell_type": "markdown",
   "id": "45dad5c4",
   "metadata": {
    "ExecuteTime": {
     "end_time": "2022-06-10T19:32:09.599582Z",
     "start_time": "2022-06-10T19:32:09.591675Z"
    }
   },
   "source": [
    "### 1.5.1 Categorical Attributes"
   ]
  },
  {
   "cell_type": "code",
   "execution_count": 9,
   "id": "a64e8104",
   "metadata": {
    "ExecuteTime": {
     "end_time": "2022-06-14T13:24:56.324625Z",
     "start_time": "2022-06-14T13:24:54.713614Z"
    }
   },
   "outputs": [
    {
     "data": {
      "image/png": "[encoded data removed]",
      "text/plain": [
       "<Figure size 1152x864 with 3 Axes>"
      ]
     },
     "metadata": {
      "needs_background": "light"
     },
     "output_type": "display_data"
    }
   ],
   "source": [
    "plt.figure(figsize=(16,12))\n",
    "\n",
    "plt.subplot (3,3,1)\n",
    "sns.countplot (x = cat_attributes['Gender']);\n",
    "\n",
    "plt.subplot (3,3,2)\n",
    "sns.countplot (x = cat_attributes['Vehicle_Age']);\n",
    "\n",
    "plt.subplot (3,3,3)\n",
    "sns.countplot (x = cat_attributes['Vehicle_Damage']);\n",
    "\n"
   ]
  },
  {
   "cell_type": "code",
   "execution_count": 10,
   "id": "32f87c9c",
   "metadata": {
    "ExecuteTime": {
     "end_time": "2022-06-14T13:24:56.348465Z",
     "start_time": "2022-06-14T13:24:56.332605Z"
    }
   },
   "outputs": [
    {
     "data": {
      "text/plain": [
       "0    87.74\n",
       "1    12.26\n",
       "Name: Response, dtype: float64"
      ]
     },
     "execution_count": 10,
     "metadata": {},
     "output_type": "execute_result"
    }
   ],
   "source": [
    "round(num_attributes['Response'].value_counts(normalize=True) *100 ,2)"
   ]
  },
  {
   "cell_type": "markdown",
   "id": "f51049aa",
   "metadata": {},
   "source": [
    "O dado acima demonstra que 12% dos clientes estão interessados em adquirir um seguro para o veículo."
   ]
  },
  {
   "cell_type": "code",
   "execution_count": 11,
   "id": "002356e8",
   "metadata": {
    "ExecuteTime": {
     "end_time": "2022-06-14T13:24:56.359210Z",
     "start_time": "2022-06-14T13:24:56.353260Z"
    }
   },
   "outputs": [],
   "source": [
    "# df.to_csv('datasets/df.csv', index_label=False )"
   ]
  },
  {
   "cell_type": "markdown",
   "id": "e9be3f50",
   "metadata": {},
   "source": [
    "# 2.0 Feature Engineering"
   ]
  },
  {
   "cell_type": "code",
   "execution_count": 12,
   "id": "9be69de0",
   "metadata": {
    "ExecuteTime": {
     "end_time": "2022-06-14T13:24:57.231905Z",
     "start_time": "2022-06-14T13:24:56.363912Z"
    }
   },
   "outputs": [],
   "source": [
    "df2 = pd.read_csv( 'datasets/df.csv', low_memory=False )"
   ]
  },
  {
   "cell_type": "code",
   "execution_count": 13,
   "id": "cfb4f346",
   "metadata": {
    "ExecuteTime": {
     "end_time": "2022-06-14T13:24:57.578907Z",
     "start_time": "2022-06-14T13:24:57.235039Z"
    }
   },
   "outputs": [],
   "source": [
    "#vehicle age\n",
    "df2['Vehicle_Age'] = df2['Vehicle_Age'].apply( lambda x: 'over_2years' if x == '> 2 Years' else 'between_1_2years' \n",
    "                                                                       if x == '1-2 Year' else 'below_1_year')\n",
    "#vehicle damage\n",
    "df2['Vehicle_Damage'] = df2['Vehicle_Damage'].apply( lambda x: 1 if x == 'Yes' else 0 )\n"
   ]
  },
  {
   "cell_type": "markdown",
   "id": "a9b5cdbd",
   "metadata": {},
   "source": [
    "# 3.0 EDA"
   ]
  },
  {
   "cell_type": "markdown",
   "id": "25767a31",
   "metadata": {},
   "source": [
    "## 3.1 Univariate Analysis"
   ]
  },
  {
   "cell_type": "code",
   "execution_count": 14,
   "id": "4a9d6b69",
   "metadata": {
    "ExecuteTime": {
     "end_time": "2022-06-14T13:24:59.012497Z",
     "start_time": "2022-06-14T13:24:57.581426Z"
    }
   },
   "outputs": [
    {
     "data": {
      "image/png": "[encoded data removed]",
      "text/plain": [
       "<Figure size 1152x864 with 3 Axes>"
      ]
     },
     "metadata": {
      "needs_background": "light"
     },
     "output_type": "display_data"
    }
   ],
   "source": [
    "#age\n",
    "plt.figure(figsize=(16,12))\n",
    "\n",
    "plt.subplot (3,3,1)\n",
    "sns.boxplot( x='Response', y='Age', data=df2);\n",
    "\n",
    "plt.subplot (3,3,2)\n",
    "aux00 = df2.loc[df2['Response'] == 0, 'Age']\n",
    "sns.histplot(aux00);\n",
    "\n",
    "plt.subplot (3,3,3)\n",
    "aux01 = df2.loc[df2['Response'] == 1, 'Age']\n",
    "sns.histplot(aux01);\n"
   ]
  },
  {
   "cell_type": "markdown",
   "id": "5fd988dd",
   "metadata": {},
   "source": [
    "Pessoas mais velhas, acima de 35 anos, tem interesse no seguro."
   ]
  },
  {
   "cell_type": "code",
   "execution_count": 15,
   "id": "b145e232",
   "metadata": {
    "ExecuteTime": {
     "end_time": "2022-06-14T13:25:01.008231Z",
     "start_time": "2022-06-14T13:24:59.015325Z"
    }
   },
   "outputs": [
    {
     "data": {
      "image/png": "[encoded data removed]",
      "text/plain": [
       "<Figure size 1152x864 with 3 Axes>"
      ]
     },
     "metadata": {
      "needs_background": "light"
     },
     "output_type": "display_data"
    }
   ],
   "source": [
    "# annual premium\n",
    "plt.figure(figsize=(16,12))\n",
    "\n",
    "plt.subplot (3,3,1)\n",
    "aux10 = df2[(df2['Annual_Premium'] > 10000) & (df2['Annual_Premium'] < 80000)]\n",
    "sns.boxplot( x='Response', y='Annual_Premium', data=aux10);\n",
    "\n",
    "plt.subplot (3,3,2)\n",
    "aux11 = aux10.loc[aux10['Response'] == 0, 'Annual_Premium']\n",
    "sns.histplot(aux11);\n",
    "\n",
    "plt.subplot (3,3,3)\n",
    "aux12 = aux10.loc[aux10['Response'] == 1, 'Annual_Premium']\n",
    "sns.histplot(aux12);"
   ]
  },
  {
   "cell_type": "code",
   "execution_count": 16,
   "id": "55512d7d",
   "metadata": {
    "ExecuteTime": {
     "end_time": "2022-06-14T13:25:01.056886Z",
     "start_time": "2022-06-14T13:25:01.011436Z"
    }
   },
   "outputs": [
    {
     "data": {
      "text/html": [
       "<div>\n",
       "<style scoped>\n",
       "    .dataframe tbody tr th:only-of-type {\n",
       "        vertical-align: middle;\n",
       "    }\n",
       "\n",
       "    .dataframe tbody tr th {\n",
       "        vertical-align: top;\n",
       "    }\n",
       "\n",
       "    .dataframe thead th {\n",
       "        text-align: right;\n",
       "    }\n",
       "</style>\n",
       "<table border=\"1\" class=\"dataframe\">\n",
       "  <thead>\n",
       "    <tr style=\"text-align: right;\">\n",
       "      <th></th>\n",
       "      <th>Response</th>\n",
       "      <th>Driving_License</th>\n",
       "      <th>Driving_License_Perc</th>\n",
       "    </tr>\n",
       "  </thead>\n",
       "  <tbody>\n",
       "    <tr>\n",
       "      <th>0</th>\n",
       "      <td>0</td>\n",
       "      <td>333628</td>\n",
       "      <td>87.728276</td>\n",
       "    </tr>\n",
       "    <tr>\n",
       "      <th>1</th>\n",
       "      <td>1</td>\n",
       "      <td>46669</td>\n",
       "      <td>12.271724</td>\n",
       "    </tr>\n",
       "  </tbody>\n",
       "</table>\n",
       "</div>"
      ],
      "text/plain": [
       "   Response  Driving_License  Driving_License_Perc\n",
       "0         0           333628             87.728276\n",
       "1         1            46669             12.271724"
      ]
     },
     "execution_count": 16,
     "metadata": {},
     "output_type": "execute_result"
    }
   ],
   "source": [
    "# driving licence\n",
    "aux20 = df2[['Driving_License', 'Response']].groupby( 'Response' ).sum().reset_index()\n",
    "aux20['Driving_License_Perc'] = (aux20['Driving_License']/aux20['Driving_License'].sum())*100\n",
    "aux20.head()\n",
    "# sns.barplot( x='Response', y='Driving_License', data=aux)"
   ]
  },
  {
   "cell_type": "code",
   "execution_count": 17,
   "id": "8ed0daf9",
   "metadata": {
    "ExecuteTime": {
     "end_time": "2022-06-14T13:25:01.064732Z",
     "start_time": "2022-06-14T13:25:01.060024Z"
    }
   },
   "outputs": [],
   "source": [
    "# region code\n",
    "# aux30 = df2[['id', 'Region_Code', 'Response']].groupby(['Region_Code', 'Response']).count().reset_index\n",
    "# sns.scatterplot( x = 'Region_Code', y = 'id', hue='response', data=aux30)"
   ]
  },
  {
   "cell_type": "code",
   "execution_count": 18,
   "id": "46cca89f",
   "metadata": {
    "ExecuteTime": {
     "end_time": "2022-06-14T13:25:01.151447Z",
     "start_time": "2022-06-14T13:25:01.067521Z"
    }
   },
   "outputs": [
    {
     "data": {
      "text/html": [
       "<div>\n",
       "<style scoped>\n",
       "    .dataframe tbody tr th:only-of-type {\n",
       "        vertical-align: middle;\n",
       "    }\n",
       "\n",
       "    .dataframe tbody tr th {\n",
       "        vertical-align: top;\n",
       "    }\n",
       "\n",
       "    .dataframe thead th {\n",
       "        text-align: right;\n",
       "    }\n",
       "</style>\n",
       "<table border=\"1\" class=\"dataframe\">\n",
       "  <thead>\n",
       "    <tr style=\"text-align: right;\">\n",
       "      <th>Response</th>\n",
       "      <th>0</th>\n",
       "      <th>1</th>\n",
       "    </tr>\n",
       "    <tr>\n",
       "      <th>Previously_Insured</th>\n",
       "      <th></th>\n",
       "      <th></th>\n",
       "    </tr>\n",
       "  </thead>\n",
       "  <tbody>\n",
       "    <tr>\n",
       "      <th>0</th>\n",
       "      <td>77.454584</td>\n",
       "      <td>22.545416</td>\n",
       "    </tr>\n",
       "    <tr>\n",
       "      <th>1</th>\n",
       "      <td>99.909522</td>\n",
       "      <td>0.090478</td>\n",
       "    </tr>\n",
       "  </tbody>\n",
       "</table>\n",
       "</div>"
      ],
      "text/plain": [
       "Response                    0          1\n",
       "Previously_Insured                      \n",
       "0                   77.454584  22.545416\n",
       "1                   99.909522   0.090478"
      ]
     },
     "execution_count": 18,
     "metadata": {},
     "output_type": "execute_result"
    }
   ],
   "source": [
    "# previously insured\n",
    "pd.crosstab(df2['Previously_Insured'], df2['Response']).apply(lambda x: (x/x.sum())*100, axis=1)"
   ]
  },
  {
   "cell_type": "markdown",
   "id": "864083c6",
   "metadata": {},
   "source": [
    "Os dados acima demonstram que as pessoas não estão interessadas em assinar um novo seguro, pois 0,09% responderam ter interesse em assinar o seguro"
   ]
  },
  {
   "cell_type": "code",
   "execution_count": 19,
   "id": "69825596",
   "metadata": {
    "ExecuteTime": {
     "end_time": "2022-06-14T13:25:01.247863Z",
     "start_time": "2022-06-14T13:25:01.155153Z"
    }
   },
   "outputs": [
    {
     "data": {
      "text/html": [
       "<div>\n",
       "<style scoped>\n",
       "    .dataframe tbody tr th:only-of-type {\n",
       "        vertical-align: middle;\n",
       "    }\n",
       "\n",
       "    .dataframe tbody tr th {\n",
       "        vertical-align: top;\n",
       "    }\n",
       "\n",
       "    .dataframe thead th {\n",
       "        text-align: right;\n",
       "    }\n",
       "</style>\n",
       "<table border=\"1\" class=\"dataframe\">\n",
       "  <thead>\n",
       "    <tr style=\"text-align: right;\">\n",
       "      <th></th>\n",
       "      <th>Vehicle_Age</th>\n",
       "      <th>Response</th>\n",
       "      <th>0</th>\n",
       "    </tr>\n",
       "  </thead>\n",
       "  <tbody>\n",
       "    <tr>\n",
       "      <th>0</th>\n",
       "      <td>between_1_2years</td>\n",
       "      <td>0</td>\n",
       "      <td>0.434285</td>\n",
       "    </tr>\n",
       "    <tr>\n",
       "      <th>1</th>\n",
       "      <td>below_1_year</td>\n",
       "      <td>0</td>\n",
       "      <td>0.413488</td>\n",
       "    </tr>\n",
       "    <tr>\n",
       "      <th>2</th>\n",
       "      <td>between_1_2years</td>\n",
       "      <td>1</td>\n",
       "      <td>0.091328</td>\n",
       "    </tr>\n",
       "    <tr>\n",
       "      <th>3</th>\n",
       "      <td>over_2years</td>\n",
       "      <td>0</td>\n",
       "      <td>0.029663</td>\n",
       "    </tr>\n",
       "    <tr>\n",
       "      <th>4</th>\n",
       "      <td>below_1_year</td>\n",
       "      <td>1</td>\n",
       "      <td>0.018897</td>\n",
       "    </tr>\n",
       "    <tr>\n",
       "      <th>5</th>\n",
       "      <td>over_2years</td>\n",
       "      <td>1</td>\n",
       "      <td>0.012338</td>\n",
       "    </tr>\n",
       "  </tbody>\n",
       "</table>\n",
       "</div>"
      ],
      "text/plain": [
       "        Vehicle_Age  Response         0\n",
       "0  between_1_2years         0  0.434285\n",
       "1      below_1_year         0  0.413488\n",
       "2  between_1_2years         1  0.091328\n",
       "3       over_2years         0  0.029663\n",
       "4      below_1_year         1  0.018897\n",
       "5       over_2years         1  0.012338"
      ]
     },
     "execution_count": 19,
     "metadata": {},
     "output_type": "execute_result"
    }
   ],
   "source": [
    "#vehicle age\n",
    "df2[['Vehicle_Age', 'Response']].value_counts(normalize=True).reset_index()"
   ]
  },
  {
   "cell_type": "code",
   "execution_count": 20,
   "id": "53adf66b",
   "metadata": {
    "ExecuteTime": {
     "end_time": "2022-06-14T13:25:04.597458Z",
     "start_time": "2022-06-14T13:25:01.252092Z"
    }
   },
   "outputs": [
    {
     "data": {
      "text/plain": [
       "<AxesSubplot:xlabel='Response', ylabel='Policy_Sales_Channel'>"
      ]
     },
     "execution_count": 20,
     "metadata": {},
     "output_type": "execute_result"
    },
    {
     "data": {
      "image/png": "[encoded data removed]",
      "text/plain": [
       "<Figure size 1728x864 with 1 Axes>"
      ]
     },
     "metadata": {
      "needs_background": "light"
     },
     "output_type": "display_data"
    }
   ],
   "source": [
    "# policy sales channel\n",
    "plt.figure( figsize=(24, 12) )\n",
    "aux40 = df2[['Policy_Sales_Channel', 'Response']].groupby( 'Policy_Sales_Channel' ).sum().reset_index()\n",
    "sns.barplot( x = 'Response', y = 'Policy_Sales_Channel', data = aux40)"
   ]
  },
  {
   "cell_type": "code",
   "execution_count": 21,
   "id": "da8cefcc",
   "metadata": {
    "ExecuteTime": {
     "end_time": "2022-06-14T13:25:06.341833Z",
     "start_time": "2022-06-14T13:25:04.601272Z"
    }
   },
   "outputs": [
    {
     "data": {
      "image/png": "[encoded data removed]",
      "text/plain": [
       "<Figure size 1152x864 with 3 Axes>"
      ]
     },
     "metadata": {
      "needs_background": "light"
     },
     "output_type": "display_data"
    }
   ],
   "source": [
    "# vintage\n",
    "plt.figure(figsize=(16,12))\n",
    "\n",
    "plt.subplot (3,3,1)\n",
    "# aux10 = df2[(df2['Annual_Premium'] > 10000) & (df2['Annual_Premium'] < 80000)]\n",
    "sns.boxplot( x='Response', y='Vintage', data=df2);\n",
    "\n",
    "plt.subplot (3,3,2)\n",
    "aux11 = aux10.loc[aux10['Response'] == 0, 'Vintage']\n",
    "sns.histplot(aux11);\n",
    "\n",
    "plt.subplot (3,3,3)\n",
    "aux12 = aux10.loc[aux10['Response'] == 1, 'Vintage']\n",
    "sns.histplot(aux12);"
   ]
  },
  {
   "cell_type": "markdown",
   "id": "72f97ab5",
   "metadata": {},
   "source": [
    "# 4.0 Data Preparation"
   ]
  },
  {
   "cell_type": "code",
   "execution_count": 22,
   "id": "cd430db6",
   "metadata": {
    "ExecuteTime": {
     "end_time": "2022-06-14T13:25:06.358987Z",
     "start_time": "2022-06-14T13:25:06.345263Z"
    }
   },
   "outputs": [],
   "source": [
    "# df2.to_csv('datasets/df2.csv', index_label=False )"
   ]
  },
  {
   "cell_type": "code",
   "execution_count": 30,
   "id": "83bd7752",
   "metadata": {
    "ExecuteTime": {
     "end_time": "2022-06-14T13:28:15.596776Z",
     "start_time": "2022-06-14T13:28:14.916214Z"
    }
   },
   "outputs": [
    {
     "data": {
      "text/plain": [
       "Index(['id', 'Gender', 'Age', 'Driving_License', 'Region_Code',\n",
       "       'Previously_Insured', 'Vehicle_Age', 'Vehicle_Damage', 'Annual_Premium',\n",
       "       'Policy_Sales_Channel', 'Vintage', 'Response'],\n",
       "      dtype='object')"
      ]
     },
     "execution_count": 30,
     "metadata": {},
     "output_type": "execute_result"
    }
   ],
   "source": [
    "# df3 = pd.read_csv( 'datasets/df2.csv', low_memory=False )\n",
    "# df3.columns"
   ]
  },
  {
   "cell_type": "code",
   "execution_count": 31,
   "id": "6f078042",
   "metadata": {
    "ExecuteTime": {
     "end_time": "2022-06-14T13:28:16.548916Z",
     "start_time": "2022-06-14T13:28:16.370034Z"
    }
   },
   "outputs": [],
   "source": [
    "X = df2.drop( 'Response', axis=1 )\n",
    "y = df2['Response'].copy()\n",
    "\n",
    "x_train, x_validation, y_train, x_validation = ms.train_test_split( X, y, test_size=0.20 )\n",
    "\n",
    "df3 = pd.concat( [x_train, y_train], axis=1)"
   ]
  },
  {
   "cell_type": "markdown",
   "id": "4b0799dd",
   "metadata": {},
   "source": [
    "## 4.1 Standartization"
   ]
  },
  {
   "cell_type": "code",
   "execution_count": 32,
   "id": "84238031",
   "metadata": {
    "ExecuteTime": {
     "end_time": "2022-06-14T13:28:17.663025Z",
     "start_time": "2022-06-14T13:28:17.634613Z"
    }
   },
   "outputs": [],
   "source": [
    "ss = pp.StandardScaler()\n",
    "#Annual_Premium\n",
    "df3['Annual_Premium'] = ss.fit_transform(df3[['Annual_Premium']].values)\n",
    "pickle.dump( ss, open('/repos/repos/projeto_PA004/parameter/Annual_Premium_Scaler.pkl', 'wb'))"
   ]
  },
  {
   "cell_type": "markdown",
   "id": "9417536c",
   "metadata": {},
   "source": [
    "## 4.2 Recaling"
   ]
  },
  {
   "cell_type": "code",
   "execution_count": 33,
   "id": "bd2f5193",
   "metadata": {
    "ExecuteTime": {
     "end_time": "2022-06-14T13:28:18.714280Z",
     "start_time": "2022-06-14T13:28:18.679738Z"
    }
   },
   "outputs": [],
   "source": [
    "mms_age = pp.MinMaxScaler()\n",
    "mms_vintage = pp.MinMaxScaler()\n",
    "\n",
    "#Age\n",
    "df3['Age'] = mms_age.fit_transform( df3[['Age']].values )\n",
    "pickle.dump( mms_age, open('/repos/repos/projeto_PA004/parameter/Age_Scaler.pkl', 'wb'))\n",
    "\n",
    "#Vintage\n",
    "df3['Vintage'] = mms_vintage.fit_transform( df3[['Vintage']].values )\n",
    "pickle.dump( mms_vintage, open('/repos/repos/projeto_PA004/parameter/Vintage_Scaler.pkl', 'wb'))"
   ]
  },
  {
   "cell_type": "markdown",
   "id": "d2732958",
   "metadata": {},
   "source": [
    "## 4.3 Encoder"
   ]
  },
  {
   "cell_type": "code",
   "execution_count": 34,
   "id": "e2cfa68a",
   "metadata": {
    "ExecuteTime": {
     "end_time": "2022-06-14T13:28:19.947929Z",
     "start_time": "2022-06-14T13:28:19.768099Z"
    }
   },
   "outputs": [],
   "source": [
    "#Gender - Target Encoding\n",
    "te_Gender = df3.groupby( 'Gender' )[ 'Response' ].mean()\n",
    "df3.loc[:, 'Gender'] = df3[ 'Gender' ].map( te_Gender )\n",
    "pickle.dump( te_Gender, open('/repos/repos/projeto_PA004/parameter/Gender_Scaler.pkl', 'wb'))\n",
    "\n",
    "#Region_Code - Target Encoding\n",
    "te_region_code = df3.groupby( 'Region_Code' )[ 'Response' ].mean()\n",
    "df3.loc[:, 'Region_Code'] = df3[ 'Region_Code' ].map( te_region_code )\n",
    "pickle.dump( te_region_code, open('/repos/repos/projeto_PA004/parameter/Region_Code_Scaler.pkl', 'wb'))\n",
    "\n",
    "#Vehicle_Age - One Hot Encoding\n",
    "df3 = pd.get_dummies( df3, prefix = 'Vehicle_Age', columns = ['Vehicle_Age'])\n",
    "\n",
    "#Policy_Sales_Channel - Frequency Encoding\n",
    "fe_policy_sales_channel = df3.groupby( 'Policy_Sales_Channel' ).size() / len( df3 )\n",
    "df3.loc[:, 'Policy_Sales_Channel'] = df3['Policy_Sales_Channel'].map(fe_policy_sales_channel)\n",
    "pickle.dump( fe_policy_sales_channel, open('/repos/repos/projeto_PA004/parameter/Policy_Sales_Channel_Scaler.pkl', 'wb'))"
   ]
  },
  {
   "cell_type": "markdown",
   "id": "ed76365a",
   "metadata": {},
   "source": [
    "## 4.4 Validation"
   ]
  },
  {
   "cell_type": "code",
   "execution_count": 35,
   "id": "aba82163",
   "metadata": {
    "ExecuteTime": {
     "end_time": "2022-06-14T13:28:21.413616Z",
     "start_time": "2022-06-14T13:28:21.288513Z"
    }
   },
   "outputs": [],
   "source": [
    "#Gender\n",
    "x_validation.loc[:, 'Gender' ] = x_validation.loc[:, 'Gender'].map(te_Gender)\n",
    "\n",
    "#Age\n",
    "x_validation.loc[:, 'Age'] = mms_age.transform( x_validation[['Age']].values )\n",
    "\n",
    "#Region_Code\n",
    "x_validation.loc[:, 'Region_Code'] = x_validation.loc[:, 'Region_Code' ].map( te_region_code )\n",
    "\n",
    "#Vehicle_Age\n",
    "x_validation = pd.get_dummies( x_validation, prefix = 'Vehicle_Age', columns = ['Vehicle_Age'])\n",
    "\n",
    "#Annual_Premium\n",
    "x_validation.loc[:, 'Annual_Premium'] = ss.transform(x_validation[['Annual_Premium']].values)\n",
    "\n",
    "#Policy_Sales_Channel\n",
    "x_validation.loc[:, 'Policy_Sales_Channel'] = x_validation['Policy_Sales_Channel'].map(fe_policy_sales_channel)\n",
    "\n",
    "#Vintage\n",
    "x_validation.loc[:, 'Vintage'] = mms_vintage.transform( x_validation[['Vintage']].values )\n",
    "\n",
    "#fillna \n",
    "x_validation = x_validation.fillna( 0 )"
   ]
  },
  {
   "cell_type": "markdown",
   "id": "d0d197d0",
   "metadata": {},
   "source": [
    "# 5.0 Feature Selection"
   ]
  },
  {
   "cell_type": "markdown",
   "id": "6904db8a",
   "metadata": {},
   "source": [
    "## 5.1 Features Importance"
   ]
  },
  {
   "cell_type": "code",
   "execution_count": null,
   "id": "29272725",
   "metadata": {
    "ExecuteTime": {
     "start_time": "2022-06-14T13:29:02.168Z"
    }
   },
   "outputs": [],
   "source": [
    "# # model definition\n",
    "# forest = en.ExtraTreesClassifier( n_estimators=250, random_state=0, n_jobs=-1)\n",
    "\n",
    "# #data preparation\n",
    "# x_train_n = df3.drop(['id', 'Response'], axis=1)\n",
    "# y_train_n = y_train.values\n",
    "# forest.fit( x_train_n, y_train_n )"
   ]
  },
  {
   "cell_type": "code",
   "execution_count": null,
   "id": "0fb869e2",
   "metadata": {
    "ExecuteTime": {
     "end_time": "2022-06-14T13:25:12.978823Z",
     "start_time": "2022-06-14T13:25:12.978796Z"
    }
   },
   "outputs": [],
   "source": [
    "# importances = forest.feature_importances_\n",
    "# std =np.std([forest.feature_importances_ for tree in forest.estimators_], axis=0)\n",
    "# indices = np.argsort(importances)[::-1]\n",
    "\n",
    "# #print the feature ranking\n",
    "# print(\"Feature ranking:\")\n",
    "# df = pd.DataFrame()\n",
    "# for i, j in zip( x_train_n, forest.feature_importances_):\n",
    "#     aux = pd.DataFrame({'feature':i, 'importance':j}, index=[0])\n",
    "#     df= pd.concat([df, aux], axis=0)\n",
    "    \n",
    "# print( df.sort_values( 'importance', ascending=False))\n",
    "\n",
    "# # Plot the impurity_based feature importances of the forest\n",
    "# plt.figure()\n",
    "# plt.title(\"Feature importances\")\n",
    "# pl.bar(range(x_train_n.shape[1]), importances[indices], color=\"r\", yerr=std[indices], align=\"center\")\n",
    "# plt.xticks(range(x_train_n.shape[1]), indices)\n",
    "# plt.xlim([-1, x_train_n.shape[1]])\n",
    "# plt.show()"
   ]
  },
  {
   "cell_type": "markdown",
   "id": "fb80d3cd",
   "metadata": {},
   "source": [
    "# 6.0 Machine Learning"
   ]
  },
  {
   "cell_type": "code",
   "execution_count": null,
   "id": "f4d064ae",
   "metadata": {},
   "outputs": [],
   "source": [
    "# cols_selected = ['Vintage', 'Annual_Premium', 'Age', 'Region_Code', 'Vehicle_Damage', \n",
    "#                  'Policy_Sales_Channel', 'Previously_Insured'  ]\n",
    "\n",
    "# x_train = df3[cols_selected]\n",
    "# x_val = x_validation[cols_selected]\n",
    "# y_val = y_validation.copy()"
   ]
  },
  {
   "cell_type": "markdown",
   "id": "efad8bd0",
   "metadata": {},
   "source": [
    "## 6.1 KNN"
   ]
  },
  {
   "cell_type": "code",
   "execution_count": null,
   "id": "91cac6b4",
   "metadata": {},
   "outputs": [],
   "source": [
    "# #model definition\n",
    "# knn_model = nh.kNeighborsClassifier( n_neighbors=2 )\n",
    "\n",
    "# #model training\n",
    "# knn_model.fit( x_train, y_train )\n",
    "\n",
    "# #model prediction - Generalização\n",
    "# yhat_knn = knn_model.predict_proba( x_val )\n",
    "\n",
    "# # accumulative gain\n",
    "# skplt.metrics.plot_cumulative_gain( y_val, yhat_knn );"
   ]
  },
  {
   "cell_type": "markdown",
   "id": "db05398f",
   "metadata": {},
   "source": [
    "## 6.2 Logistic Regression"
   ]
  },
  {
   "cell_type": "code",
   "execution_count": null,
   "id": "13dceb15",
   "metadata": {},
   "outputs": [],
   "source": [
    "# #model definition\n",
    "# lr_model = lm.LogisticRegression( random_state=42 )\n",
    "\n",
    "# #model training\n",
    "# lr_model.fit( x_train, y_train )\n",
    "\n",
    "# #model prediction - Generalização\n",
    "# yhat_lr = lr_model.predict_proba( x_val )\n",
    "\n",
    "# # accumulative gain\n",
    "# skplt.metrics.plot_cumulative_gain( y_val, yhat_lr );"
   ]
  },
  {
   "cell_type": "markdown",
   "id": "afe90b6a",
   "metadata": {},
   "source": [
    "## 6.3 Extra Trees"
   ]
  },
  {
   "cell_type": "code",
   "execution_count": null,
   "id": "1d9cfd5d",
   "metadata": {},
   "outputs": [],
   "source": [
    "# #model definition\n",
    "# et = en.ExtraTreesClassifier(n_estimators=1000, n_jobs=-1, random_state=42)\n",
    "\n",
    "# #model training\n",
    "# et.fit( x_train, y_train)\n",
    "\n",
    "# #model predict\n",
    "# yhat_et = et.predict_proba( x_val )"
   ]
  },
  {
   "cell_type": "markdown",
   "id": "ff98db08",
   "metadata": {},
   "source": [
    "# 7.0 Model Performance"
   ]
  },
  {
   "cell_type": "code",
   "execution_count": null,
   "id": "aa658515",
   "metadata": {},
   "outputs": [],
   "source": [
    "# copy data\n",
    "df4 = x_validation.copy()\n",
    "df4['Response'] = y_validation.copy()\n",
    "\n",
    "#propensity score\n",
    "df4['Score']=yhat_knn[:, 1].tolist()\n",
    "\n",
    "# sorted\n",
    "df4 = df4.sort_values( 'Score', ascending=False )"
   ]
  },
  {
   "cell_type": "code",
   "execution_count": null,
   "id": "79e054d1",
   "metadata": {},
   "outputs": [],
   "source": [
    "def precision_at_k( data, k=2000 ):\n",
    "    #reset index\n",
    "    data = data.reset_index( drop=True )\n",
    "    \n",
    "    #create ranking order\n",
    "    data['Ranking'] = data.index + 1\n",
    "    \n",
    "    data['Precision_at_k'] = data['Response'].cumsum() / data['Ranking']\n",
    "    \n",
    "    data[['id', 'Response', 'Score', 'Ranking', 'Precision_at_k']].head()\n",
    "    \n",
    "    return data.loc[ k, 'Precision_at_k']"
   ]
  },
  {
   "cell_type": "code",
   "execution_count": null,
   "id": "e4f3683d",
   "metadata": {},
   "outputs": [],
   "source": [
    "def recall_at_k( data, k=2000 ):\n",
    "    #reset index\n",
    "    data = data.reset_index( drop=True )\n",
    "    \n",
    "    #create ranking order\n",
    "    data['Ranking'] = data.index + 1\n",
    "    \n",
    "    data['Recall_at_k'] = data['Response'].cumsum() / data['Response'].sum()\n",
    "    \n",
    "    data[['id', 'Response', 'Score', 'Ranking', 'Recall_at_k']].head()\n",
    "    \n",
    "    return data.loc[ k, 'Recall_at_k']"
   ]
  },
  {
   "cell_type": "code",
   "execution_count": null,
   "id": "04788afc",
   "metadata": {},
   "outputs": [],
   "source": [
    "# compute precision at k\n",
    "precision_at_50 = precision_at_k( df4, k=50 )\n",
    "print ('Precision at k: {}'.format(precision_at_50))\n",
    "\n",
    "# compute precision at k\n",
    "recall_at_50 = recall_at_k( df4, k=50 )\n",
    "print ('Recall at k: {}'.format(recall_at_50))"
   ]
  },
  {
   "cell_type": "markdown",
   "id": "4226ec4c",
   "metadata": {},
   "source": [
    "# 8.0 Deploy to Production"
   ]
  },
  {
   "cell_type": "code",
   "execution_count": null,
   "id": "bbf8e692",
   "metadata": {},
   "outputs": [],
   "source": [
    "# pickle.dump( lr_model, open('/content/drive/My Drive/PA004/Model/model_linear_regression.pkl', 'wb'))"
   ]
  },
  {
   "cell_type": "markdown",
   "id": "8ebf74e5",
   "metadata": {},
   "source": [
    "## 8.1 Health Insurance Class"
   ]
  },
  {
   "cell_type": "code",
   "execution_count": null,
   "id": "f9d6dd1c",
   "metadata": {
    "code_folding": []
   },
   "outputs": [],
   "source": [
    "import pickle\n",
    "import numpy as np\n",
    "import pandas as pd\n",
    "\n",
    "class HealthInsurance:\n",
    "\n",
    "    def __init__( self ):\n",
    "       self.Annual_Premium_Scaler        = pickle.load( open ('/content/drive/My Drive/PA004/Features/Annual_Premium_Scaler.pkl', 'rb'))\n",
    "       self.Age_Scaler                   = pickle.load( open ('/content/drive/My Drive/PA004/Features/Age_Scaler.pkl', 'rb'))\n",
    "       self.Vintage_Scaler               = pickle.load( open ('/content/drive/My Drive/PA004/Features/Vintage_Scaler.pkl', 'rb'))\n",
    "       self.Gender_Scaler                = pickle.load( open ('/content/drive/My Drive/PA004/Features/Gender_Scaler.pkl', 'rb'))\n",
    "       self.Region_Code_Scaler           = pickle.load( open ('/content/drive/My Drive/PA004/Features/Region_Code_Scaler.pkl', 'rb'))\n",
    "       self.Policy_Sales_Channel_Scaler  = pickle.load( open ('/content/drive/My Drive/PA004/Features/Policy_Sales_Channel_Scaler.pkl', 'rb'))\n",
    "\n",
    "    def feature_engineering(self, df2):\n",
    "\n",
    "       # vehicle age\n",
    "       df2['Vehicle_Age'] = df2['Vehicle_Age'].apply( lambda x: 'over_2years' if x == '> 2 Years' else 'between_1_2years' \n",
    "                                                                              if x == '1-2 Year' else 'below_1_year')\n",
    "       #vehicle damage\n",
    "       df2['Vehicle_Damage'] = df2['Vehicle_Damage'].apply( lambda x: 1 if x == 'Yes' else 0 )\n",
    "\n",
    "       return df2\n",
    "\n",
    "    def data_preparation(self, df3):\n",
    "      #Annual_Premium\n",
    "      df3['Annual_Premium'] = self.Annual_Premium_Scaler.transform(df3[['Annual_Premium']].values)\n",
    "\n",
    "      #Age\n",
    "      df3['Age'] = self.Age_Scaler.transform( df3[['Age']].values )\n",
    "\n",
    "      #Vintage\n",
    "      df3['Vintage'] = self.Vintage_Scaler.transform( df3[['Vintage']].values )\n",
    "\n",
    "      #Gender - Target Encoding\n",
    "      df3.loc[:, 'Gender'] = df3[ 'Gender' ].map( self.Gender_Scaler )\n",
    "\n",
    "      #Region_Code - Target Encoding\n",
    "      df3.loc[:, 'Region_Code'] = df3[ 'Region_Code' ].map( self.Region_Code_Scaler )\n",
    "\n",
    "      #Vehicle_Age - One Hot Encoding\n",
    "      df3 = pd.get_dummies( df3, prefix = 'Vehicle_Age', columns = ['Vehicle_Age'])\n",
    "\n",
    "      #Policy_Sales_Channel - Frequency Encoding\n",
    "      df3.loc[:, 'Policy_Sales_Channel'] = df3['Policy_Sales_Channel'].map(self.Policy_Sales_Channel_Scaler)\n",
    "\n",
    "      #Feature Selection\n",
    "      cols_selected = ['Vintage', 'Annual_Premium', 'Age', 'Region_Code', 'Vehicle_Damage', \n",
    "                       'Policy_Sales_Channel', 'Previously_Insured']\n",
    "\n",
    "      return df3[ cols_selected ]\n",
    "\n",
    "    def get_prediction( self, model, original_data, test_data):\n",
    "      #model prediction\n",
    "      pred = model.predict_proba( test_data )\n",
    "\n",
    "      #join prediction into original data\n",
    "      original_data['score'] = pred\n",
    "        \n",
    "      return original_data.to_json( orient='records', date_format='iso')"
   ]
  },
  {
   "cell_type": "markdown",
   "id": "9adea95e",
   "metadata": {},
   "source": [
    "## 8.2 API Handler"
   ]
  },
  {
   "cell_type": "code",
   "execution_count": null,
   "id": "67d11b07",
   "metadata": {},
   "outputs": [],
   "source": [
    "import pickle\n",
    "import pandas as pd\n",
    "from flask import Flask, request, Response\n",
    "#from healthinsurance \n",
    "import HealthInsurance\n",
    "\n",
    "#loading model\n",
    "model = pickle.load( open('/content/drive/My Drive/PA004/Model/model_linear_regression.pkl', 'rb'))\n",
    "\n",
    "#initialize API\n",
    "app = Flask(__name__)\n",
    "\n",
    "@app.route('/predict', methods=['POST'])\n",
    "def health_insurance_predict():\n",
    "  test_json = request.get_json()\n",
    "\n",
    "  if test_json: # test data\n",
    "    if isinstance( test_json, dict ): #one row\n",
    "      test_raw = pd.DataFrame(test_json, index=[0])\n",
    "\n",
    "    else: #multiple rows\n",
    "      test_raw = pd.DataFrame(test_json, columns=test_json[0].keys())\n",
    "\n",
    "    #instantiate HealthInsurance class\n",
    "    pipeline = HealthInsurance()\n",
    "\n",
    "    #feature engineering\n",
    "    df = pipeline.feature_engineering( test_raw )\n",
    "\n",
    "    #data preparation\n",
    "    df1 = pipeline.data_preparation(df)\n",
    "\n",
    "    #prediction\n",
    "    df_response = pipeline.get_prediction(model, test_raw, df3)\n",
    "\n",
    "    return df_response\n",
    "\n",
    "  else:\n",
    "    return Response( '{}', status=200, mimetype='application/json' )\n",
    "\n",
    "if __name__ == '__main__':\n",
    "  app.run('0.0.0.0', debug=True)"
   ]
  },
  {
   "cell_type": "markdown",
   "id": "85b99a6f",
   "metadata": {},
   "source": [
    "## 8.3 API Tester"
   ]
  },
  {
   "cell_type": "code",
   "execution_count": null,
   "id": "17a8d604",
   "metadata": {},
   "outputs": [],
   "source": [
    "import requests\n",
    "import json"
   ]
  },
  {
   "cell_type": "code",
   "execution_count": null,
   "id": "495ece79",
   "metadata": {},
   "outputs": [],
   "source": [
    "#loading test dataset\n",
    "df_test = x_validation\n",
    "df_test['response'] = y_validation"
   ]
  },
  {
   "cell_type": "code",
   "execution_count": null,
   "id": "1f3510e3",
   "metadata": {},
   "outputs": [],
   "source": [
    "df_test = df_test.sample(10)"
   ]
  },
  {
   "cell_type": "code",
   "execution_count": null,
   "id": "69951947",
   "metadata": {},
   "outputs": [],
   "source": [
    "data = json.dumps(df_test.to_dict( orient='records'))"
   ]
  },
  {
   "cell_type": "code",
   "execution_count": null,
   "id": "fa0b6566",
   "metadata": {},
   "outputs": [],
   "source": [
    "#API Call\n",
    "#url = 'http://0.0.0.0:5000/predict'\n",
    "url = 'https://healthinsurance-alex.herokuapp.com/predict'\n",
    "header = {'Content-type': 'application/json'}\n",
    "\n",
    "r = requests.post(url, data=data, headers=header)\n",
    "print('Status Code {}'.format(r.status_code))"
   ]
  },
  {
   "cell_type": "code",
   "execution_count": null,
   "id": "80943641",
   "metadata": {},
   "outputs": [],
   "source": [
    "dfn = pd.DataFrame(r.json(), columns=r.json()[0].keys())\n",
    "dfn.sort_values( 'score', ascending=False).head()"
   ]
  }
 ],
 "metadata": {
  "kernelspec": {
   "display_name": "Python 3 (ipykernel)",
   "language": "python",
   "name": "python3"
  },
  "language_info": {
   "codemirror_mode": {
    "name": "ipython",
    "version": 3
   },
   "file_extension": ".py",
   "mimetype": "text/x-python",
   "name": "python",
   "nbconvert_exporter": "python",
   "pygments_lexer": "ipython3",
   "version": "3.8.10"
  },
  "varInspector": {
   "cols": {
    "lenName": 16,
    "lenType": 16,
    "lenVar": 40
   },
   "kernels_config": {
    "python": {
     "delete_cmd_postfix": "",
     "delete_cmd_prefix": "del ",
     "library": "var_list.py",
     "varRefreshCmd": "print(var_dic_list())"
    },
    "r": {
     "delete_cmd_postfix": ") ",
     "delete_cmd_prefix": "rm(",
     "library": "var_list.r",
     "varRefreshCmd": "cat(var_dic_list()) "
    }
   },
   "types_to_exclude": [
    "module",
    "function",
    "builtin_function_or_method",
    "instance",
    "_Feature"
   ],
   "window_display": false
  }
 },
 "nbformat": 4,
 "nbformat_minor": 5
}
